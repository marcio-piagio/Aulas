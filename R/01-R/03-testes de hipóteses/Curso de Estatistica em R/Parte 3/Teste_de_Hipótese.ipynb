{
  "cells": [
    {
      "metadata": {
        "colab_type": "text",
        "id": "WvMflodMjQKe"
      },
      "cell_type": "markdown",
      "source": "# <font color=green size=10>CURSO DE ESTATÍSTICA - PARTE 3</font>\n\n***\n\n## Trabalho sobre testes de hipóteses\n\nUtilizando os conhecimentos adquiridos em nosso treinamento realize o teste de hipóteses proposto abaixo.\n\nSiga o roteiro proposto e vá completando as células vazias. Procure pensar em mais testes interessantes que podem ser realizados com o nosso dataset."
    },
    {
      "metadata": {
        "colab_type": "text",
        "id": "ZIqLOffNTg1Y"
      },
      "cell_type": "markdown",
      "source": "***"
    },
    {
      "metadata": {
        "colab_type": "text",
        "id": "lmAJLIu8pslb"
      },
      "cell_type": "markdown",
      "source": "## <font color='red'>Problema</font>"
    },
    {
      "metadata": {
        "colab_type": "text",
        "id": "0zUUY8klpslc"
      },
      "cell_type": "markdown",
      "source": "Você é um pesquisador que estuda o mercado de trabalho brasileiro e resolve estudar as diferenças salariais dos trabalhadores dos estados do Rio de Janeiro e de São Paulo. Durante sua pesquisa você verifica que, aparentemente, os rendimentos dos trabalhadores no estado do Rio de Janeiro são mais baixos que os rendimentos dos trabalhadores no estado de São Paulo. Para confirmar esta conclusão realize um teste de hipótese de comparação de médias em cima de duas amostras de trabalhadores dos dois estados. Siga as seguintes etapas:\n\n- Utilize o *dataset* 'dados_proj.csv' para rodar o teste. Este *dataset* tem uma amostra de **tamanho 500** dos rendimentos dos trabalhadores dos dois estados (RJ e SP).\n- Considere o **nível de significância de 5%**.\n- Teste a hipótese de que a **renda média dos trabalhadores do Rio de Janeiro é menor que a renda média dos trabalhadores de São Paulo**."
    },
    {
      "metadata": {
        "colab_type": "text",
        "id": "WUknTBZgpslc"
      },
      "cell_type": "markdown",
      "source": "---"
    },
    {
      "metadata": {
        "colab_type": "text",
        "id": "xzGuwM4xpslc"
      },
      "cell_type": "markdown",
      "source": "### Importando o *dataset* 'dados_proj.csv'\n\nO *dataset* apresenta duas variáveis: **Renda_RJ** e **Renda_SP**."
    },
    {
      "metadata": {
        "trusted": false
      },
      "cell_type": "code",
      "source": "",
      "execution_count": null,
      "outputs": []
    },
    {
      "metadata": {
        "trusted": false
      },
      "cell_type": "code",
      "source": "",
      "execution_count": null,
      "outputs": []
    },
    {
      "metadata": {
        "colab_type": "text",
        "id": "FOFa-cHwpslg"
      },
      "cell_type": "markdown",
      "source": "### Dados do problema\nObter média e desvio-padrão para as duas amostras"
    },
    {
      "metadata": {
        "colab": {
          "base_uri": "https://localhost:8080/",
          "height": 35
        },
        "colab_type": "code",
        "id": "BGyXCbompslh",
        "outputId": "bdfd1e09-fc68-49a1-a440-bf0d7b34c918",
        "trusted": false
      },
      "cell_type": "code",
      "source": "",
      "execution_count": null,
      "outputs": []
    },
    {
      "metadata": {
        "colab": {
          "base_uri": "https://localhost:8080/",
          "height": 35
        },
        "colab_type": "code",
        "id": "RoxFOCA3pslk",
        "outputId": "f17f8f80-9e2e-40be-b501-3e4c68372cce",
        "trusted": false
      },
      "cell_type": "code",
      "source": "",
      "execution_count": null,
      "outputs": []
    },
    {
      "metadata": {
        "colab": {
          "base_uri": "https://localhost:8080/",
          "height": 35
        },
        "colab_type": "code",
        "id": "Of8L6Hygpsll",
        "outputId": "b3d0901d-2379-4808-f3cb-a41368c1264d",
        "trusted": false
      },
      "cell_type": "code",
      "source": "",
      "execution_count": null,
      "outputs": []
    },
    {
      "metadata": {
        "colab": {
          "base_uri": "https://localhost:8080/",
          "height": 35
        },
        "colab_type": "code",
        "id": "-cSpXXTepsln",
        "outputId": "3466627b-3460-4fda-cb6e-dded783196b5",
        "trusted": false
      },
      "cell_type": "code",
      "source": "",
      "execution_count": null,
      "outputs": []
    },
    {
      "metadata": {},
      "cell_type": "markdown",
      "source": "Variáveis com os dados do problema"
    },
    {
      "metadata": {
        "colab": {},
        "colab_type": "code",
        "id": "Cl7kdxkUpslo",
        "trusted": false
      },
      "cell_type": "code",
      "source": "",
      "execution_count": null,
      "outputs": []
    },
    {
      "metadata": {
        "colab_type": "text",
        "id": "Kyp6CNssrAmw"
      },
      "cell_type": "markdown",
      "source": "## Lembre-se..."
    },
    {
      "metadata": {
        "colab_type": "text",
        "id": "xGGMFhzwrAmx"
      },
      "cell_type": "markdown",
      "source": "<img src='https://caelum-online-public.s3.amazonaws.com/1229-estatistica-parte3/01/img014.png' width=90%>"
    },
    {
      "metadata": {
        "colab_type": "text",
        "id": "PGoWwWwjpslp"
      },
      "cell_type": "markdown",
      "source": "---"
    },
    {
      "metadata": {
        "colab_type": "text",
        "id": "tO597Oxgpslp"
      },
      "cell_type": "markdown",
      "source": "### **Passo 1** - formulação das hipóteses $H_0$ e $H_1$\n\n#### <font color='red'>Lembre-se, a hipótese nula sempre contém a alegação de igualdade</font>"
    },
    {
      "metadata": {
        "colab_type": "text",
        "id": "LysVU-7fpslr"
      },
      "cell_type": "markdown",
      "source": "(Formule suas hipóteses aqui)"
    },
    {
      "metadata": {
        "colab_type": "text",
        "id": "ENKqbCgQpslr"
      },
      "cell_type": "markdown",
      "source": "---"
    },
    {
      "metadata": {
        "colab_type": "text",
        "id": "dBA05Y3Zpslr"
      },
      "cell_type": "markdown",
      "source": "### **Passo 2** - escolha da distribuição amostral adequada"
    },
    {
      "metadata": {
        "colab_type": "text",
        "id": "6_Q_Wtjlpsls"
      },
      "cell_type": "markdown",
      "source": "### O tamanho da amostra é maior que 30?\n#### Resp.: \n\n### Podemos afirmar que a população se distribui aproximadamente como uma normal?\n#### Resp.: \n\n### O desvio padrão populacional é conhecido?\n#### Resp.: "
    },
    {
      "metadata": {
        "colab_type": "text",
        "id": "T6sVzVjVpsls"
      },
      "cell_type": "markdown",
      "source": "---"
    },
    {
      "metadata": {
        "colab_type": "text",
        "id": "SUN4yJqzpsls"
      },
      "cell_type": "markdown",
      "source": "### **Passo 3** - fixação da significância do teste ($\\alpha$)"
    },
    {
      "metadata": {
        "colab": {
          "base_uri": "https://localhost:8080/",
          "height": 35
        },
        "colab_type": "code",
        "id": "b3Y_CZmzpsls",
        "outputId": "e75d68fb-3391-4d1b-d5ea-274f2e2dbe5d",
        "trusted": false
      },
      "cell_type": "code",
      "source": "",
      "execution_count": null,
      "outputs": []
    },
    {
      "metadata": {
        "colab": {
          "base_uri": "https://localhost:8080/",
          "height": 35
        },
        "colab_type": "code",
        "id": "qNse2bFRpslu",
        "outputId": "d3014462-b26b-488d-f9db-29d837d6c683",
        "trusted": false
      },
      "cell_type": "code",
      "source": "",
      "execution_count": null,
      "outputs": []
    },
    {
      "metadata": {
        "colab_type": "text",
        "id": "xUhiEXRMpslv"
      },
      "cell_type": "markdown",
      "source": "---"
    },
    {
      "metadata": {
        "colab_type": "text",
        "id": "iooB1aPHpslv"
      },
      "cell_type": "markdown",
      "source": "### **Passo 4** - cálculo da estatística-teste e verificação desse valor com as áreas de aceitação e rejeição do teste"
    },
    {
      "metadata": {
        "colab": {
          "base_uri": "https://localhost:8080/",
          "height": 35
        },
        "colab_type": "code",
        "id": "AL2i9JOTpslw",
        "outputId": "70de1497-94ac-4e2b-cfec-89552cbda99b",
        "trusted": false
      },
      "cell_type": "code",
      "source": "",
      "execution_count": null,
      "outputs": []
    },
    {
      "metadata": {
        "colab_type": "text",
        "id": "4dn58Fc2pslx"
      },
      "cell_type": "markdown",
      "source": "---"
    },
    {
      "metadata": {
        "colab_type": "text",
        "id": "P-7NL33-pslx"
      },
      "cell_type": "markdown",
      "source": "### **Passo 5** - Aceitação ou rejeição da hipótese nula"
    },
    {
      "metadata": {
        "colab_type": "text",
        "id": "QrObW-BXpsly"
      },
      "cell_type": "markdown",
      "source": "### <font color='red'>Critério do valor crítico</font>"
    },
    {
      "metadata": {
        "colab": {
          "base_uri": "https://localhost:8080/",
          "height": 35
        },
        "colab_type": "code",
        "id": "tkJSji7gpsly",
        "outputId": "871244f8-08a3-456c-f7be-eb86e8a37255",
        "trusted": false
      },
      "cell_type": "code",
      "source": "",
      "execution_count": null,
      "outputs": []
    },
    {
      "metadata": {
        "colab_type": "text",
        "id": "cyuNEHfwpsl0"
      },
      "cell_type": "markdown",
      "source": "### <font color='red'>Critério do valor $p$</font>"
    },
    {
      "metadata": {
        "trusted": false
      },
      "cell_type": "code",
      "source": "",
      "execution_count": null,
      "outputs": []
    },
    {
      "metadata": {
        "trusted": false
      },
      "cell_type": "code",
      "source": "",
      "execution_count": null,
      "outputs": []
    },
    {
      "metadata": {
        "trusted": false
      },
      "cell_type": "code",
      "source": "",
      "execution_count": null,
      "outputs": []
    },
    {
      "metadata": {
        "trusted": false
      },
      "cell_type": "code",
      "source": "",
      "execution_count": null,
      "outputs": []
    },
    {
      "metadata": {
        "colab_type": "text",
        "id": "UnBVO1uDpslz"
      },
      "cell_type": "markdown",
      "source": "### <font color='green'>Conclusão: (Digite sua conclusão aqui)</font>"
    },
    {
      "metadata": {
        "trusted": false
      },
      "cell_type": "code",
      "source": "",
      "execution_count": null,
      "outputs": []
    }
  ],
  "metadata": {
    "colab": {
      "name": "Teste_de_Hipótese_Respostas.ipynb",
      "provenance": [],
      "version": "0.3.2"
    },
    "kernelspec": {
      "name": "r",
      "display_name": "R",
      "language": "R"
    },
    "language_info": {
      "mimetype": "text/x-r-source",
      "name": "R",
      "pygments_lexer": "r",
      "version": "3.5.3",
      "file_extension": ".r",
      "codemirror_mode": "r"
    }
  },
  "nbformat": 4,
  "nbformat_minor": 1
}