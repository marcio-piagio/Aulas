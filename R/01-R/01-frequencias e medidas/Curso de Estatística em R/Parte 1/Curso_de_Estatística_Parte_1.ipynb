{
  "cells": [
    {
      "metadata": {
        "colab_type": "text",
        "id": "WvMflodMjQKe"
      },
      "cell_type": "markdown",
      "source": "***\n# <font color=green size=10>CURSO DE ESTATÍSTICA - PARTE 1</font>\n***"
    },
    {
      "metadata": {
        "colab_type": "text",
        "id": "cVgsZ_E3jQKg"
      },
      "cell_type": "markdown",
      "source": "# <font color=green>1 CONHECENDO OS DADOS</font>\n***"
    },
    {
      "metadata": {
        "colab_type": "text",
        "id": "TDjqYYNojQKh"
      },
      "cell_type": "markdown",
      "source": "## <font color=green>1.1 Dataset do projeto</font>\n***"
    },
    {
      "metadata": {
        "colab_type": "text",
        "id": "iN1gIbaKjQKh"
      },
      "cell_type": "markdown",
      "source": "### Pesquisa Nacional por Amostra de Domicílios - 2015\n\nA <b>Pesquisa Nacional por Amostra de Domicílios - PNAD</b> investiga anualmente, de forma permanente, características gerais da população, de educação, trabalho, rendimento e habitação e outras, com periodicidade variável, de acordo com as necessidades de informação para o país, como as características sobre migração, fecundidade, nupcialidade, saúde, segurança alimentar, entre outros temas. O levantamento dessas estatísticas constitui, ao longo dos 49 anos de realização da pesquisa, um importante instrumento para formulação, validação e avaliação de políticas orientadas para o desenvolvimento socioeconômico e a melhoria das condições de vida no Brasil."
    },
    {
      "metadata": {
        "colab_type": "text",
        "id": "U6V7br1RjQKi"
      },
      "cell_type": "markdown",
      "source": "### Fonte dos Dados\n\nhttps://ww2.ibge.gov.br/home/estatistica/populacao/trabalhoerendimento/pnad2015/microdados.shtm"
    },
    {
      "metadata": {
        "colab_type": "text",
        "id": "r0Fe_qnzjQKj"
      },
      "cell_type": "markdown",
      "source": "### Variáveis utilizadas\n\n> ### Renda\n> ***\n\nRendimento mensal do trabalho principal para pessoas de 10 anos ou mais de idade.\n\n> ### Idade\n> ***\n\nIdade do morador na data de referência em anos.\n\n> ### Altura (elaboração própria)\n> ***\n\nAltura do morador em metros.\n\n> ### UF\n> ***\n\n|Código|Descrição|\n|---|---|\n|11|Rondônia|\n|12|Acre|\n|13|Amazonas|\n|14|Roraima|\n|15|Pará|\n|16|Amapá|\n|17|Tocantins|\n|21|Maranhão|\n|22|Piauí|\n|23|Ceará|\n|24|Rio Grande do Norte|\n|25|Paraíba|\n|26|Pernambuco|\n|27|Alagoas|\n|28|Sergipe|\n|29|Bahia|\n|31|Minas Gerais|\n|32|Espírito Santo|\n|33|Rio de Janeiro|\n|35|São Paulo|\n|41|Paraná|\n|42|Santa Catarina|\n|43|Rio Grande do Sul|\n|50|Mato Grosso do Sul|\n|51|Mato Grosso|\n|52|Goiás|\n|53|Distrito Federal|\n\n> ### Sexo\t\n> ***\n\n|Código|Descrição|\n|---|---|\n|0|Masculino|\n|1|Feminino|\n\n> ### Anos de Estudo\n> ***\n\n|Código|Descrição|\n|---|---|\n|1|Sem instrução e menos de 1 ano|\n|2|1 ano|\n|3|2 anos|\n|4|3 anos|\n|5|4 anos|\n|6|5 anos|\n|7|6 anos|\n|8|7 anos|\n|9|8 anos|\n|10|9 anos|\n|11|10 anos|\n|12|11 anos|\n|13|12 anos|\n|14|13 anos|\n|15|14 anos|\n|16|15 anos ou mais|\n|17|Não determinados| \n||Não aplicável|\n\n> ### Cor\n> ***\n\n|Código|Descrição|\n|---|---|\n|0|Indígena|\n|2|Branca|\n|4|Preta|\n|6|Amarela|\n|8|Parda|\n|9|Sem declaração|"
    },
    {
      "metadata": {
        "colab_type": "text",
        "id": "OK1IQH5cX7Gb"
      },
      "cell_type": "markdown",
      "source": "#### <font color='red'>Observação</font>\n***\n> Os seguintes tratamentos foram realizados nos dados originais:\n> 1. Foram eliminados os registros onde a <b>Renda</b> era inválida (999 999 999 999);\n> 2. Foram eliminados os registros onde a <b>Renda</b> era missing;\n> 3. Foram considerados somente os registros das <b>Pessoas de Referência</b> de cada domicílio (responsável pelo domicílio)."
    },
    {
      "metadata": {},
      "cell_type": "markdown",
      "source": "### R (informações básicas)"
    },
    {
      "metadata": {
        "trusted": true
      },
      "cell_type": "code",
      "source": "sessionInfo()",
      "execution_count": null,
      "outputs": []
    },
    {
      "metadata": {},
      "cell_type": "markdown",
      "source": "### Importando bibliotecas \n#### A bilioteca dplyr\nhttps://www.rdocumentation.org/packages/dplyr"
    },
    {
      "metadata": {
        "scrolled": false,
        "trusted": true
      },
      "cell_type": "code",
      "source": "library(dplyr)",
      "execution_count": null,
      "outputs": []
    },
    {
      "metadata": {},
      "cell_type": "markdown",
      "source": "### <font color=red>Documentações:\n\n- [**select**](https://www.rdocumentation.org/packages/dplyr/versions/0.7.8/topics/select)\n- [**arrange**](https://www.rdocumentation.org/packages/dplyr/versions/0.7.8/topics/arrange)\n- [**read.csv**](https://www.rdocumentation.org/packages/utils/versions/3.6.1/topics/read.table)\n- [**head**](https://www.rdocumentation.org/packages/utils/versions/3.6.1/topics/head)"
    },
    {
      "metadata": {},
      "cell_type": "markdown",
      "source": "### Acessando a ajuda"
    },
    {
      "metadata": {
        "trusted": true
      },
      "cell_type": "code",
      "source": "?select",
      "execution_count": null,
      "outputs": []
    },
    {
      "metadata": {
        "trusted": true
      },
      "cell_type": "code",
      "source": "?arrange",
      "execution_count": null,
      "outputs": []
    },
    {
      "metadata": {
        "colab_type": "text",
        "id": "8Rw70V6ojQKk"
      },
      "cell_type": "markdown",
      "source": "---\n### Importando o dataset do projeto"
    },
    {
      "metadata": {
        "colab": {},
        "colab_type": "code",
        "id": "8QgOpE-wjQKl",
        "trusted": true
      },
      "cell_type": "code",
      "source": "dados <- read.csv(\"dados.csv\")",
      "execution_count": null,
      "outputs": []
    },
    {
      "metadata": {
        "colab": {},
        "colab_type": "code",
        "id": "ufRZ7TLwjQKo",
        "scrolled": true,
        "trusted": true
      },
      "cell_type": "code",
      "source": "dados",
      "execution_count": null,
      "outputs": []
    },
    {
      "metadata": {
        "colab": {
          "base_uri": "https://localhost:8080/",
          "height": 204
        },
        "colab_type": "code",
        "id": "GsC_WhLFjQKq",
        "outputId": "5eef662c-f904-4e46-ee7a-159616d06554",
        "scrolled": false,
        "trusted": true
      },
      "cell_type": "code",
      "source": "head(dados, 5)",
      "execution_count": null,
      "outputs": []
    },
    {
      "metadata": {
        "colab_type": "text",
        "id": "E3Mx0tVqjQKs"
      },
      "cell_type": "markdown",
      "source": "## <font color=green>1.2 Tipos de dados</font>\n***"
    },
    {
      "metadata": {
        "colab_type": "text",
        "id": "oB4TCBFojQKt"
      },
      "cell_type": "markdown",
      "source": "### Variáveis qualitativas ordinais\n\n► Variáveis que podem ser ordenadas ou hierarquizadas"
    },
    {
      "metadata": {
        "colab_type": "text",
        "id": "oB4TCBFojQKt"
      },
      "cell_type": "markdown",
      "source": "### <font color=red>Documentações:\n\n- [**select**](https://www.rdocumentation.org/packages/dplyr/versions/0.7.8/topics/select)\n- [**unique**](https://www.rdocumentation.org/packages/base/versions/3.6.1/topics/unique)\n- [**arrange**](https://www.rdocumentation.org/packages/dplyr/versions/0.7.8/topics/arrange)\n- [**c**](https://www.rdocumentation.org/packages/base/versions/3.6.1/topics/c)\n- [**sprintf**](https://www.rdocumentation.org/packages/base/versions/3.6.1/topics/sprintf)\n- [**glue**](https://www.rdocumentation.org/packages/glue/versions/1.3.1/topics/glue)\n- [**min e max**](https://www.rdocumentation.org/packages/base/versions/3.6.1/topics/Extremes)"
    },
    {
      "metadata": {
        "scrolled": true,
        "trusted": true
      },
      "cell_type": "code",
      "source": "head(dados, 5)",
      "execution_count": null,
      "outputs": []
    },
    {
      "metadata": {
        "scrolled": true,
        "trusted": true
      },
      "cell_type": "code",
      "source": "select(dados, Anos.de.Estudo)",
      "execution_count": null,
      "outputs": []
    },
    {
      "metadata": {
        "scrolled": false,
        "trusted": true
      },
      "cell_type": "code",
      "source": "unique(select(dados, Anos.de.Estudo))",
      "execution_count": null,
      "outputs": []
    },
    {
      "metadata": {
        "scrolled": false,
        "trusted": true
      },
      "cell_type": "code",
      "source": "arrange(unique(select(dados, Anos.de.Estudo)), Anos.de.Estudo)",
      "execution_count": null,
      "outputs": []
    },
    {
      "metadata": {
        "trusted": true
      },
      "cell_type": "code",
      "source": "c(arrange(unique(select(dados, Anos.de.Estudo)), Anos.de.Estudo))",
      "execution_count": null,
      "outputs": []
    },
    {
      "metadata": {
        "colab_type": "text",
        "id": "i2mCIMyojQKv"
      },
      "cell_type": "markdown",
      "source": "### Variáveis qualitativas nominais\n\n► Variáveis que não podem ser ordenadas ou hierarquizadas"
    },
    {
      "metadata": {
        "scrolled": true,
        "trusted": true
      },
      "cell_type": "code",
      "source": "c(arrange(unique(select(dados, UF)), UF))",
      "execution_count": null,
      "outputs": []
    },
    {
      "metadata": {
        "trusted": true
      },
      "cell_type": "code",
      "source": "c(arrange(unique(select(dados, Sexo)), Sexo))",
      "execution_count": null,
      "outputs": []
    },
    {
      "metadata": {
        "trusted": true
      },
      "cell_type": "code",
      "source": "c(arrange(unique(select(dados, Cor)), Cor))",
      "execution_count": null,
      "outputs": []
    },
    {
      "metadata": {
        "colab_type": "text",
        "id": "FQhi81LsjQK5"
      },
      "cell_type": "markdown",
      "source": "### Variáveis quantitativas discretas\n\n► Variáveis que representam uma contagem onde os valores possíveis formam um conjunto finito ou enumerável."
    },
    {
      "metadata": {
        "trusted": true
      },
      "cell_type": "code",
      "source": "sprintf('De %s até %s anos', min(dados$Idade), max(dados$Idade))",
      "execution_count": null,
      "outputs": []
    },
    {
      "metadata": {
        "trusted": true
      },
      "cell_type": "code",
      "source": "library(glue)",
      "execution_count": null,
      "outputs": []
    },
    {
      "metadata": {
        "trusted": true
      },
      "cell_type": "code",
      "source": "glue(\"De {min(dados$Idade)} até {max(dados$Idade)} anos\")",
      "execution_count": null,
      "outputs": []
    },
    {
      "metadata": {
        "colab_type": "text",
        "id": "7mMXLTukjQK-"
      },
      "cell_type": "markdown",
      "source": "#### <font color='red'>Observação</font>\n***\n> A variável idade pode ser classificada de três formas distintas:\n> 1. <b>QUANTITATIVA DISCRETA</b> - quando representa anos completos (números inteiros);\n> 2. <b>QUANTITATIVA CONTÍNUA</b> - quando representa a idade exata, sendo representado por frações de anos; e\n> 3. <b>QUALITATIVA ORDINAL</b> - quando representa faixas de idade."
    },
    {
      "metadata": {
        "colab_type": "text",
        "id": "J0L2OkaQjQK7"
      },
      "cell_type": "markdown",
      "source": "### Variáveis quantitativas contínuas\n\n► Variáveis que representam uma contagem ou mensuração que assumem valores em uma escala contínua (números reais)."
    },
    {
      "metadata": {
        "trusted": true
      },
      "cell_type": "code",
      "source": "glue(\"De {min(dados$Altura)} até {max(dados$Altura)} metros\")",
      "execution_count": null,
      "outputs": []
    },
    {
      "metadata": {
        "colab_type": "text",
        "id": "d_LW5gMIjQK_"
      },
      "cell_type": "markdown",
      "source": "### Classificação de uma variável\n<img src='https://caelum-online-public.s3.amazonaws.com/1177-estatistica-parte1/01/img001.png' width='70%'>"
    },
    {
      "metadata": {
        "colab_type": "text",
        "id": "PNIg_4VEjQK_"
      },
      "cell_type": "markdown",
      "source": "# <font color=green>2 DISTRIBUIÇÃO DE FREQUÊNCIAS</font>\n***\n\nO primeiro passo em um trabalho de análise é o conhecimento do comportamento das variáveis envolvidas no estudo. Utilizando técnicas estatísticas como as análises das <b>DISTRIBUIÇÕES DE FREQUÊNCIAS</b> e <b>HISTOGRAMAS</b> podemos avaliar melhor a forma como os fenômenos em estudo se distribuem."
    },
    {
      "metadata": {
        "colab_type": "text",
        "id": "JhpyjkEFjQLA"
      },
      "cell_type": "markdown",
      "source": "## <font color=green>2.1 Distribuição de frequências para variáveis qualitativas</font>\n***"
    },
    {
      "metadata": {
        "colab_type": "text",
        "id": "SsN3ikjqjQLB"
      },
      "cell_type": "markdown",
      "source": "### Método 1"
    },
    {
      "metadata": {
        "colab_type": "text",
        "id": "SsN3ikjqjQLB"
      },
      "cell_type": "markdown",
      "source": "### <font color=red>Documentações:\n\n- [**table**](https://www.rdocumentation.org/packages/base/versions/3.6.1/topics/table)\n- [**prop.table**](https://www.rdocumentation.org/packages/base/versions/3.6.1/topics/prop.table)\n- [**cbind**](https://www.rdocumentation.org/packages/base/versions/3.6.1/topics/cbind)\n- [**row+colnames**](https://www.rdocumentation.org/packages/base/versions/3.6.1/topics/row%2Bcolnames)"
    },
    {
      "metadata": {
        "trusted": true
      },
      "cell_type": "code",
      "source": "table(dados$Sexo)",
      "execution_count": null,
      "outputs": []
    },
    {
      "metadata": {
        "trusted": true
      },
      "cell_type": "code",
      "source": "dist_freq_qualitativas <- cbind(freq = table(dados$Sexo), percent = prop.table(table(dados$Sexo)) * 100)\ndist_freq_qualitativas",
      "execution_count": null,
      "outputs": []
    },
    {
      "metadata": {
        "trusted": true
      },
      "cell_type": "code",
      "source": "colnames(dist_freq_qualitativas) <- c('Frequência', 'Porcentagem (%)')\ndist_freq_qualitativas",
      "execution_count": null,
      "outputs": []
    },
    {
      "metadata": {
        "trusted": true
      },
      "cell_type": "code",
      "source": "rownames(dist_freq_qualitativas) <- c('Masculino', 'Feminino')\ndist_freq_qualitativas",
      "execution_count": null,
      "outputs": []
    },
    {
      "metadata": {
        "colab_type": "text",
        "id": "D82ocp_djQLR"
      },
      "cell_type": "markdown",
      "source": "### Método 2"
    },
    {
      "metadata": {
        "colab_type": "text",
        "id": "D82ocp_djQLR"
      },
      "cell_type": "markdown",
      "source": "### <font color=red>Documentações:\n\n- [**tapply**](https://www.rdocumentation.org/packages/base/versions/3.6.1/topics/tapply)"
    },
    {
      "metadata": {
        "trusted": true
      },
      "cell_type": "code",
      "source": "frequencia <- table(dados$Sexo, dados$Cor)\nfrequencia",
      "execution_count": null,
      "outputs": []
    },
    {
      "metadata": {
        "colab": {},
        "colab_type": "code",
        "id": "d8XMZiEfjQLS",
        "trusted": true
      },
      "cell_type": "code",
      "source": "rownames(frequencia) <- c('Masculino', 'Feminino')\ncolnames(frequencia) <- c('Indígena', 'Branca', 'Preta', 'Amarela', 'Parda')\nfrequencia <- cbind(frequencia)\nfrequencia",
      "execution_count": null,
      "outputs": []
    },
    {
      "metadata": {
        "colab": {
          "base_uri": "https://localhost:8080/",
          "height": 142
        },
        "colab_type": "code",
        "id": "YLCyOKYcjQLU",
        "outputId": "7edebb2b-4a25-4b77-f78a-f47adbc8b3d9",
        "trusted": true
      },
      "cell_type": "code",
      "source": "percentual <- prop.table(frequencia) * 100\npercentual",
      "execution_count": null,
      "outputs": []
    },
    {
      "metadata": {
        "trusted": true
      },
      "cell_type": "code",
      "source": "list(c(1, 2, 3, 4), c(5, 6, 7))",
      "execution_count": null,
      "outputs": []
    },
    {
      "metadata": {
        "trusted": true
      },
      "cell_type": "code",
      "source": "medias <- tapply(dados$Renda, list(dados$Sexo, dados$Cor), mean)\nrownames(medias) <- c('Masculino', 'Feminino')\ncolnames(medias) <- c('Indígena', 'Branca', 'Preta', 'Amarela', 'Parda')\nmedias",
      "execution_count": null,
      "outputs": []
    },
    {
      "metadata": {
        "colab_type": "text",
        "id": "eaXQUxnXjQLa"
      },
      "cell_type": "markdown",
      "source": "## <font color=green>2.2 Distribuição de frequências para variáveis quantitativas (classes personalizadas)</font>\n***"
    },
    {
      "metadata": {
        "colab_type": "text",
        "id": "eaXQUxnXjQLa"
      },
      "cell_type": "markdown",
      "source": "### <font color=red>Documentações:\n\n- [**cut**](https://www.rdocumentation.org/packages/base/versions/3.6.1/topics/cut)\n- [**order**](https://www.rdocumentation.org/packages/base/versions/3.6.1/topics/order)\n- [**row.names**](https://www.rdocumentation.org/packages/base/versions/3.6.1/topics/row.names)"
    },
    {
      "metadata": {
        "colab_type": "text",
        "id": "wxsSD-VVjQLb"
      },
      "cell_type": "markdown",
      "source": "### Passo 1 - Especificar os limites de cada classe\n\nUtilizar a seguinte classificação:\n\n<b>A</b> ► Acima de 20 SM\n\n<b>B</b> ► De 10 a 20 SM\n\n<b>C</b> ► De 4 a 10 SM\n\n<b>D</b> ► De 2 a 4 SM\n\n<b>E</b> ► Até 2 SM\n\nonde <b>SM</b> é o valor do salário mínimo na época. Em nosso caso <b>R$ 788,00</b> (2015):\n\n<b>A</b> ► Acima de 15.760\n\n<b>B</b> ► De 7.880 a 15.760\n\n<b>C</b> ► De 3.152 a 7.880\n\n<b>D</b> ► De 1.576 a 3.152\n\n<b>E</b> ► Até 1.576\n"
    },
    {
      "metadata": {
        "colab": {
          "base_uri": "https://localhost:8080/",
          "height": 35
        },
        "colab_type": "code",
        "id": "Z08790GUjQLc",
        "outputId": "4a7bafb3-8440-42ee-fc60-a29080527059",
        "trusted": true
      },
      "cell_type": "code",
      "source": "min(dados$Renda)",
      "execution_count": null,
      "outputs": []
    },
    {
      "metadata": {
        "colab": {
          "base_uri": "https://localhost:8080/",
          "height": 35
        },
        "colab_type": "code",
        "id": "5q2V5-0FjQLe",
        "outputId": "4d3c65eb-f1b0-454d-eb93-09c82314e311",
        "trusted": true
      },
      "cell_type": "code",
      "source": "max(dados$Renda)",
      "execution_count": null,
      "outputs": []
    },
    {
      "metadata": {
        "colab": {},
        "colab_type": "code",
        "id": "Qt5F5w2UjQLg",
        "trusted": true
      },
      "cell_type": "code",
      "source": "classes <- c(0, 1576, 3152, 7880, 15760, 200000)",
      "execution_count": null,
      "outputs": []
    },
    {
      "metadata": {
        "colab": {},
        "colab_type": "code",
        "id": "DKPIGOLLjQLi",
        "trusted": true
      },
      "cell_type": "code",
      "source": "labels <- c('E', 'D', 'C', 'B', 'A')",
      "execution_count": null,
      "outputs": []
    },
    {
      "metadata": {
        "colab_type": "text",
        "id": "IQhlvrQUjQLk"
      },
      "cell_type": "markdown",
      "source": "### Passo 2 - Criar a tabela de frequências"
    },
    {
      "metadata": {
        "trusted": true
      },
      "cell_type": "code",
      "source": "frequencia <- table(\n    cut(\n        x = dados$Renda,\n        breaks = classes,\n        labels = labels,\n        include.lowest = TRUE\n    )\n)\nfrequencia",
      "execution_count": null,
      "outputs": []
    },
    {
      "metadata": {
        "colab": {
          "base_uri": "https://localhost:8080/",
          "height": 125
        },
        "colab_type": "code",
        "id": "WrZ2m2GajQLo",
        "outputId": "363ba010-04c1-4f23-a08a-f5431372fcf4",
        "trusted": true
      },
      "cell_type": "code",
      "source": "percentual <- prop.table(frequencia) * 100\npercentual",
      "execution_count": null,
      "outputs": []
    },
    {
      "metadata": {
        "colab": {
          "base_uri": "https://localhost:8080/",
          "height": 204
        },
        "colab_type": "code",
        "id": "btKoxJDujQLp",
        "outputId": "849e9644-dcf1-4c0f-88c8-9bd00f24a53b",
        "trusted": true
      },
      "cell_type": "code",
      "source": "dist_freq_quantitativas_personalizadas <- cbind('Frequência' = frequencia, 'Porcentagem (%)' = percentual)\ndist_freq_quantitativas_personalizadas",
      "execution_count": null,
      "outputs": []
    },
    {
      "metadata": {
        "colab": {
          "base_uri": "https://localhost:8080/",
          "height": 204
        },
        "colab_type": "code",
        "id": "uTMEJXUHjQLs",
        "outputId": "ce17e408-9d56-44b2-fb26-a4037df3af00",
        "trusted": true
      },
      "cell_type": "code",
      "source": "dist_freq_quantitativas_personalizadas[\n    order(row.names(dist_freq_quantitativas_personalizadas)), \n]",
      "execution_count": null,
      "outputs": []
    },
    {
      "metadata": {
        "colab_type": "text",
        "id": "ViJYvvjujQLu"
      },
      "cell_type": "markdown",
      "source": "## <font color=green>2.3 Distribuição de frequências para variáveis quantitativas (classes de amplitude fixa)</font>\n***"
    },
    {
      "metadata": {
        "colab_type": "text",
        "id": "ViJYvvjujQLu"
      },
      "cell_type": "markdown",
      "source": "### <font color=red>Documentações:\n\n- [**nrow**](https://www.rdocumentation.org/packages/base/versions/3.6.1/topics/nrow)\n- [**log**](https://www.rdocumentation.org/packages/base/versions/3.6.1/topics/log)\n- [**round**](https://www.rdocumentation.org/packages/base/versions/3.6.1/topics/Round)"
    },
    {
      "metadata": {
        "colab_type": "text",
        "id": "s9UGNaMzjQLy"
      },
      "cell_type": "markdown",
      "source": "### Passo 1 - Definindo o número de classes"
    },
    {
      "metadata": {
        "colab_type": "text",
        "id": "p268tvNHjQLy"
      },
      "cell_type": "markdown",
      "source": "#### Regra de Sturges\n\n# $$k = 1 + \\frac {10}{3}\\log_{10}n$$"
    },
    {
      "metadata": {
        "colab": {
          "base_uri": "https://localhost:8080/",
          "height": 35
        },
        "colab_type": "code",
        "id": "wgLH6gGqjQLz",
        "outputId": "0cac691b-d35f-40a2-e1e7-31cfa0a5698a",
        "trusted": true
      },
      "cell_type": "code",
      "source": "n <- nrow(dados)\nn",
      "execution_count": null,
      "outputs": []
    },
    {
      "metadata": {
        "colab": {},
        "colab_type": "code",
        "id": "uTuVep-8jQL0",
        "trusted": true
      },
      "cell_type": "code",
      "source": "k <- 1 + (10 / 3) * log10(n)\nk",
      "execution_count": null,
      "outputs": []
    },
    {
      "metadata": {
        "colab": {
          "base_uri": "https://localhost:8080/",
          "height": 35
        },
        "colab_type": "code",
        "id": "B_Y66_KFjQL4",
        "outputId": "b93f7e32-c1f3-46b0-86d2-4575bab25906",
        "trusted": true
      },
      "cell_type": "code",
      "source": "k <- round(k)\nk",
      "execution_count": null,
      "outputs": []
    },
    {
      "metadata": {
        "colab_type": "text",
        "id": "5eO-RhaljQL6"
      },
      "cell_type": "markdown",
      "source": "### Passo 2 - Criar a tabela de frequências"
    },
    {
      "metadata": {
        "trusted": true
      },
      "cell_type": "code",
      "source": "labels <- c(\n    '      0.00 |—|  11,764.70', \n    ' 11,764.70  —|  23,529.40', \n    ' 23,529.40  —|  35,294.10', \n    ' 35,294.10  —|  47,058.80', \n    ' 47,058.80  —|  58,823.50', \n    ' 58,823.50  —|  70,588.20', \n    ' 70,588.20  —|  82,352.90', \n    ' 82,352.90  —|  94,117.60', \n    ' 94,117.60  —| 105,882.00', \n    '105,882.00  —| 117,647.00', \n    '117,647.00  —| 129,412.00', \n    '129,412.00  —| 141,176.00', \n    '141,176.00  —| 152,941.00', \n    '152,941.00  —| 164,706.00', \n    '164,706.00  —| 176,471.00', \n    '176,471.00  —| 188,235.00', \n    '188,235.00  —| 200,000.00'\n)",
      "execution_count": null,
      "outputs": []
    },
    {
      "metadata": {
        "colab": {},
        "colab_type": "code",
        "id": "sVVA-jvDjQL7",
        "trusted": true
      },
      "cell_type": "code",
      "source": "frequencia <- table(\n    cut(\n        x = dados$Renda,\n        breaks = k,\n        labels = labels,\n        include.lowest = TRUE\n    )\n)\nfrequencia",
      "execution_count": null,
      "outputs": []
    },
    {
      "metadata": {
        "colab": {
          "base_uri": "https://localhost:8080/",
          "height": 341
        },
        "colab_type": "code",
        "id": "-ylxSip1jQL9",
        "outputId": "d362e353-a3c9-4721-efd3-2a8ff7c85ab5",
        "trusted": true
      },
      "cell_type": "code",
      "source": "percentual <- prop.table(frequencia) * 100\npercentual",
      "execution_count": null,
      "outputs": []
    },
    {
      "metadata": {
        "colab": {
          "base_uri": "https://localhost:8080/",
          "height": 576
        },
        "colab_type": "code",
        "id": "n9kkJ0WTjQL_",
        "outputId": "994669b3-9a10-424c-adab-6f934f87fd45",
        "trusted": true
      },
      "cell_type": "code",
      "source": "dist_freq_quantitativas_amplitude_fixa <- cbind('Frequência' = frequencia, 'Porcentagem (%)' = percentual)\ndist_freq_quantitativas_amplitude_fixa",
      "execution_count": null,
      "outputs": []
    },
    {
      "metadata": {
        "colab_type": "text",
        "id": "Js9iLwNkjQME"
      },
      "cell_type": "markdown",
      "source": "## <font color=green>2.4 Histograma</font>\n***\n\nO <b>HISTOGRAMA</b> é a representação gráfica de uma distribuição de frequências. É um gráfico formado por um conjunto de retângulos colocados lado a lado, onde a área de cada retângulo é proporcional à frequência da classe que ele representa."
    },
    {
      "metadata": {
        "colab_type": "text",
        "id": "Js9iLwNkjQME"
      },
      "cell_type": "markdown",
      "source": "### <font color=red>Documentações:\n\n- [***package* graphics**](https://www.rdocumentation.org/packages/graphics)\n- [**hist**](https://www.rdocumentation.org/packages/graphics/versions/3.6.1/topics/hist)\n- [***package* ggplot2**](https://www.rdocumentation.org/packages/ggplot2)\n- [**data.frame**](https://www.rdocumentation.org/packages/base/versions/3.6.1/topics/data.frame)"
    },
    {
      "metadata": {
        "trusted": true
      },
      "cell_type": "code",
      "source": "options(repr.plot.width = 7, repr.plot.height =4)",
      "execution_count": null,
      "outputs": []
    },
    {
      "metadata": {
        "colab": {},
        "colab_type": "code",
        "id": "PYRaBCnxjQME",
        "trusted": true
      },
      "cell_type": "code",
      "source": "hist(dados$Altura)",
      "execution_count": null,
      "outputs": []
    },
    {
      "metadata": {
        "trusted": true
      },
      "cell_type": "code",
      "source": "hist(\n    x = dados$Altura,\n    breaks = 'Sturges',\n    col = 'lightblue',\n    main = 'Histograma das Alturas',\n    xlab = 'Altura',\n    ylab = 'Frequências'\n)",
      "execution_count": null,
      "outputs": []
    },
    {
      "metadata": {
        "trusted": true
      },
      "cell_type": "code",
      "source": "library(ggplot2)",
      "execution_count": null,
      "outputs": []
    },
    {
      "metadata": {
        "trusted": true
      },
      "cell_type": "code",
      "source": "ggplot(dados, aes(x = Altura)) + \n    geom_histogram(binwidth = 0.02, color = \"black\", alpha = 0.9) + \n    ylab(\"Frequência\") + \n    xlab(\"Alturas\") + \n    ggtitle('Histograma das Alturas') +\n    theme(\n        plot.title = element_text(size = 14, hjust = 0.5),\n        axis.title.y = element_text(size = 12, vjust = +0.2),\n        axis.title.x = element_text(size = 12, vjust = -0.2),\n        axis.text.y = element_text(size = 10),\n        axis.text.x = element_text(size = 10)\n    )",
      "execution_count": null,
      "outputs": []
    },
    {
      "metadata": {
        "trusted": true
      },
      "cell_type": "code",
      "source": "formatos <- theme(\n        plot.title = element_text(size = 14, hjust = 0.5),\n        axis.title.y = element_text(size = 12, vjust = +0.2),\n        axis.title.x = element_text(size = 12, vjust = -0.2),\n        axis.text.y = element_text(size = 10),\n        axis.text.x = element_text(size = 10)\n    )",
      "execution_count": null,
      "outputs": []
    },
    {
      "metadata": {
        "trusted": true
      },
      "cell_type": "code",
      "source": "ggplot(dados, aes(x = Altura, y = ..density..)) + \n    geom_histogram(binwidth = 0.02, color = \"black\", alpha = 0.9) + \n    geom_density(color = 'green') +\n    ylab(\"Frequência\") + \n    xlab(\"Alturas\") + \n    ggtitle('Histograma das Alturas') +\n    formatos",
      "execution_count": null,
      "outputs": []
    },
    {
      "metadata": {
        "colab": {
          "base_uri": "https://localhost:8080/",
          "height": 204
        },
        "colab_type": "code",
        "id": "0HcLhLYtjQMM",
        "outputId": "45a291b3-4b7a-4ea8-c135-a873ad231c02",
        "trusted": true
      },
      "cell_type": "code",
      "source": "bar_chart <- data.frame(dist_freq_quantitativas_personalizadas)\nbar_chart",
      "execution_count": null,
      "outputs": []
    },
    {
      "metadata": {
        "trusted": true
      },
      "cell_type": "code",
      "source": "ggplot(bar_chart, aes(x = row.names(bar_chart), y = bar_chart$Frequência)) + \n    geom_bar(stat = \"identity\") + \n    ylab(\"Frequência\") + \n    xlab(\"Classes de Renda\") + \n    ggtitle('Gráfico Classes de Renda') +\n    formatos",
      "execution_count": null,
      "outputs": []
    },
    {
      "metadata": {
        "colab_type": "text",
        "id": "uIb17Es3jQMP"
      },
      "cell_type": "markdown",
      "source": "# <font color=green>3 MEDIDAS DE TENDÊNCIA CENTRAL</font>\n***"
    },
    {
      "metadata": {
        "colab_type": "text",
        "id": "Wrya4suEX7H-"
      },
      "cell_type": "markdown",
      "source": "## DataFrame de exemplo"
    },
    {
      "metadata": {
        "trusted": true
      },
      "cell_type": "code",
      "source": "materias <- c('Matemática', 'Português', 'Inglês', 'Geografia', 'História', 'Física', 'Química')\nFulano <- c(8, 10, 4, 8, 6, 10, 8)\nBeltrano <- c(10, 2, 0.5, 1, 3, 9.5, 10)\nSicrano <- c(7.5, 8, 7, 8, 8, 8.5, 7)",
      "execution_count": null,
      "outputs": []
    },
    {
      "metadata": {
        "trusted": true
      },
      "cell_type": "code",
      "source": "df <- data.frame(Fulano, Beltrano, Sicrano, row.names = materias)\ndf",
      "execution_count": null,
      "outputs": []
    },
    {
      "metadata": {
        "colab_type": "text",
        "id": "kcHJFW-YjQMP"
      },
      "cell_type": "markdown",
      "source": "## <font color=green>3.1 Média aritmética</font>\n***\n\nÉ representada por $\\mu$ quando se refere à população e por $\\bar{X}$ quando se refere à amostra\n\n# $$\\mu = \\frac 1n\\sum_{i=1}^{n}X_i$$\n\nonde \n\n$n$ = número de observações (registros)\n\n$X_i$ = valor da i-ésima observação (registro)"
    },
    {
      "metadata": {
        "colab_type": "text",
        "id": "kcHJFW-YjQMP"
      },
      "cell_type": "markdown",
      "source": "### <font color=red>Documentações:\n\n- [**mean**](https://www.rdocumentation.org/packages/base/versions/3.6.1/topics/mean)\n- [**aggregate**](https://www.rdocumentation.org/packages/stats/versions/3.6.1/topics/aggregate)\n- [**list**](https://www.rdocumentation.org/packages/base/versions/3.6.1/topics/list)"
    },
    {
      "metadata": {
        "colab": {
          "base_uri": "https://localhost:8080/",
          "height": 35
        },
        "colab_type": "code",
        "id": "QW4JPcBmX7IA",
        "outputId": "45810cfa-fba2-4bf3-b571-eddd9d8ebd09",
        "trusted": true
      },
      "cell_type": "code",
      "source": "(8 + 10 + 4 + 8 + 6 + 10 + 8) / 7",
      "execution_count": null,
      "outputs": []
    },
    {
      "metadata": {
        "colab": {
          "base_uri": "https://localhost:8080/",
          "height": 35
        },
        "colab_type": "code",
        "id": "LuT8WNy5X7IB",
        "outputId": "1fde4b44-b250-41d9-ff02-70c9a0e05aca",
        "trusted": true
      },
      "cell_type": "code",
      "source": "mean(df$Fulano)",
      "execution_count": null,
      "outputs": []
    },
    {
      "metadata": {
        "trusted": true
      },
      "cell_type": "code",
      "source": "mean(dados$Renda)",
      "execution_count": null,
      "outputs": []
    },
    {
      "metadata": {
        "trusted": true
      },
      "cell_type": "code",
      "source": "aggregate(list(Renda = dados$Renda), list(Sexo = dados$Sexo), mean)",
      "execution_count": null,
      "outputs": []
    },
    {
      "metadata": {
        "colab_type": "text",
        "id": "9geu3UcKjQMS"
      },
      "cell_type": "markdown",
      "source": "## <font color=green>3.2 Mediana</font>\n***\n\nPara obtermos a mediana de uma conjunto de dados devemos proceder da seguinte maneira:\n1. Ordenar o conjunto de dados;\n2. Identificar o número de observações (registros) do conjunto de dados ($n$);\n3. Identicar o elemento mediano:\n\n> Quando $n$ for ímpar, a posição do elemento mediano será obtida da seguinte forma:\n\n\n# $$Elemento_{Md} = \\frac{n+1}2$$\n\n> Quando $n$ for par, a posição do elemento mediano será obtida da seguinte forma:\n\n\n# $$Elemento_{Md} = \\frac{n}2$$\n\n4. Obter a mediana:\n\n> Quando $n$ for ímpar:\n\n\n# $$Md = X_{Elemento_{Md}}$$\n\n> Quando $n$ for par:\n\n\n# $$Md = \\frac{X_{Elemento_{Md}} + X_{Elemento_{Md}+1}}2$$\n***"
    },
    {
      "metadata": {
        "colab_type": "text",
        "id": "9geu3UcKjQMS"
      },
      "cell_type": "markdown",
      "source": "### <font color=red>Documentações:\n\n- [**median**](https://www.rdocumentation.org/packages/stats/versions/3.6.1/topics/median)\n- [**set.seed**](https://www.rdocumentation.org/packages/simEd/versions/1.0.3/topics/set.seed)\n- [**sample**](https://www.rdocumentation.org/packages/base/versions/3.6.1/topics/sample)"
    },
    {
      "metadata": {
        "colab_type": "text",
        "id": "e0IuYdJFjQMT"
      },
      "cell_type": "markdown",
      "source": "### Exemplo 1 - n ímpar\n\n<img src='https://caelum-online-public.s3.amazonaws.com/1177-estatistica-parte1/01/img002.png' width='40%' style=\"float:left\">"
    },
    {
      "metadata": {
        "trusted": true
      },
      "cell_type": "code",
      "source": "df",
      "execution_count": null,
      "outputs": []
    },
    {
      "metadata": {
        "trusted": true
      },
      "cell_type": "code",
      "source": "df_fulano <- df[order(df$Fulano), ]\ndf_fulano",
      "execution_count": null,
      "outputs": []
    },
    {
      "metadata": {
        "trusted": true
      },
      "cell_type": "code",
      "source": "n = nrow(df_fulano)\nn",
      "execution_count": null,
      "outputs": []
    },
    {
      "metadata": {
        "colab": {
          "base_uri": "https://localhost:8080/",
          "height": 35
        },
        "colab_type": "code",
        "id": "trC12MHxjQMY",
        "outputId": "917c6720-daa2-45be-a72d-3e0d63c67fd0",
        "trusted": true
      },
      "cell_type": "code",
      "source": "elemento_md <- (n + 1) / 2\nelemento_md",
      "execution_count": null,
      "outputs": []
    },
    {
      "metadata": {
        "colab": {
          "base_uri": "https://localhost:8080/",
          "height": 71
        },
        "colab_type": "code",
        "id": "NKccffcLjQMZ",
        "outputId": "46c1c33a-100b-4aca-e876-f3589b699b48",
        "trusted": true
      },
      "cell_type": "code",
      "source": "df_fulano[elemento_md, ]",
      "execution_count": null,
      "outputs": []
    },
    {
      "metadata": {
        "colab": {
          "base_uri": "https://localhost:8080/",
          "height": 53
        },
        "colab_type": "code",
        "id": "ody5mfXLjQMb",
        "outputId": "d43b24b8-1d80-4780-a059-720cdc073353",
        "trusted": true
      },
      "cell_type": "code",
      "source": "median(df$Fulano)",
      "execution_count": null,
      "outputs": []
    },
    {
      "metadata": {
        "colab_type": "text",
        "id": "hQHyjfLkjQMe"
      },
      "cell_type": "markdown",
      "source": "### Exemplo 2 - n par\n\n<img src='https://caelum-online-public.s3.amazonaws.com/1177-estatistica-parte1/01/img003.png' width='50%' style=\"float:left\">"
    },
    {
      "metadata": {},
      "cell_type": "markdown",
      "source": "### Obtendo uma amostra aleatória dos dados"
    },
    {
      "metadata": {
        "trusted": true
      },
      "cell_type": "code",
      "source": "df",
      "execution_count": null,
      "outputs": []
    },
    {
      "metadata": {
        "trusted": true
      },
      "cell_type": "code",
      "source": "set.seed(101)\nsample(nrow(df), 6)",
      "execution_count": null,
      "outputs": []
    },
    {
      "metadata": {
        "trusted": true
      },
      "cell_type": "code",
      "source": "set.seed(101)\ndf_beltrano <- df[sample(nrow(df), 6), ]\ndf_beltrano",
      "execution_count": null,
      "outputs": []
    },
    {
      "metadata": {
        "trusted": true
      },
      "cell_type": "code",
      "source": "n <- nrow(df_beltrano)\nn",
      "execution_count": null,
      "outputs": []
    },
    {
      "metadata": {
        "colab": {
          "base_uri": "https://localhost:8080/",
          "height": 35
        },
        "colab_type": "code",
        "id": "6wB1UztBjQMf",
        "outputId": "cbb15019-56a3-4c87-8b77-6e04371c3182",
        "trusted": true
      },
      "cell_type": "code",
      "source": "df_beltrano <- df_beltrano[order(df_beltrano$Beltrano), ]\ndf_beltrano",
      "execution_count": null,
      "outputs": []
    },
    {
      "metadata": {
        "colab": {
          "base_uri": "https://localhost:8080/",
          "height": 35
        },
        "colab_type": "code",
        "id": "tEBVXl7CjQMh",
        "outputId": "499b28c7-6de7-40f4-cdd9-5fef5c5c084a",
        "trusted": true
      },
      "cell_type": "code",
      "source": "elemento_md = n / 2\nelemento_md",
      "execution_count": null,
      "outputs": []
    },
    {
      "metadata": {
        "trusted": true
      },
      "cell_type": "code",
      "source": "mean(df_beltrano[c(elemento_md, elemento_md + 1), ]$Beltrano)",
      "execution_count": null,
      "outputs": []
    },
    {
      "metadata": {
        "colab": {
          "base_uri": "https://localhost:8080/",
          "height": 53
        },
        "colab_type": "code",
        "id": "IevBBtrRjQMj",
        "outputId": "6f299f8c-f0c1-4e44-9a0f-cd72834145ba",
        "trusted": true
      },
      "cell_type": "code",
      "source": "median(df_beltrano$Beltrano)",
      "execution_count": null,
      "outputs": []
    },
    {
      "metadata": {
        "colab_type": "text",
        "id": "nK27TxrkjQMl"
      },
      "cell_type": "markdown",
      "source": "### Obtendo a mediana em nosso dataset"
    },
    {
      "metadata": {
        "colab": {
          "base_uri": "https://localhost:8080/",
          "height": 35
        },
        "colab_type": "code",
        "id": "dJznpnjUjQMl",
        "outputId": "f4728447-b763-4116-9076-9ac9c4d19d75",
        "trusted": true
      },
      "cell_type": "code",
      "source": "median(dados$Renda)",
      "execution_count": null,
      "outputs": []
    },
    {
      "metadata": {
        "colab_type": "text",
        "id": "CmCu6BXQjQMo"
      },
      "cell_type": "markdown",
      "source": "## <font color=green>3.3 Moda</font>\n***\n\nPode-se definir a moda como sendo o valor mais frequente de um conjunto de dados. A moda é bastante utilizada para dados qualitativos."
    },
    {
      "metadata": {
        "colab_type": "text",
        "id": "CmCu6BXQjQMo"
      },
      "cell_type": "markdown",
      "source": "### <font color=red>Documentações:\n\n- [**function**](https://www.rdocumentation.org/packages/base/versions/3.6.1/topics/function)"
    },
    {
      "metadata": {
        "colab": {
          "base_uri": "https://localhost:8080/",
          "height": 266
        },
        "colab_type": "code",
        "id": "BHibMzw8X7Id",
        "outputId": "6b9375f3-1c22-4866-a40b-c28be3a01047",
        "trusted": true
      },
      "cell_type": "code",
      "source": "df",
      "execution_count": null,
      "outputs": []
    },
    {
      "metadata": {
        "trusted": true
      },
      "cell_type": "code",
      "source": "exemplo_moda <- c(1, 2, 2, 3, 4, 4, 5, 6, 7, 7)\nexemplo_moda",
      "execution_count": null,
      "outputs": []
    },
    {
      "metadata": {
        "trusted": true
      },
      "cell_type": "code",
      "source": "freq <- table(exemplo_moda)\nfreq",
      "execution_count": null,
      "outputs": []
    },
    {
      "metadata": {
        "trusted": true
      },
      "cell_type": "code",
      "source": "freq[freq == max(freq)]",
      "execution_count": null,
      "outputs": []
    },
    {
      "metadata": {
        "trusted": true
      },
      "cell_type": "code",
      "source": "names(freq)[freq == max(freq)]",
      "execution_count": null,
      "outputs": []
    },
    {
      "metadata": {
        "trusted": true
      },
      "cell_type": "code",
      "source": "Moda <- function(x) {\n    freq <- table(x)\n    return(names(freq)[freq == max(freq)])\n}",
      "execution_count": null,
      "outputs": []
    },
    {
      "metadata": {
        "trusted": true
      },
      "cell_type": "code",
      "source": "Moda(exemplo_moda)",
      "execution_count": null,
      "outputs": []
    },
    {
      "metadata": {
        "trusted": true
      },
      "cell_type": "code",
      "source": "Moda(df$Fulano)",
      "execution_count": null,
      "outputs": []
    },
    {
      "metadata": {
        "trusted": true
      },
      "cell_type": "code",
      "source": "Moda(df$Beltrano)",
      "execution_count": null,
      "outputs": []
    },
    {
      "metadata": {
        "trusted": true
      },
      "cell_type": "code",
      "source": "Moda(df$Sicrano)",
      "execution_count": null,
      "outputs": []
    },
    {
      "metadata": {
        "colab_type": "text",
        "id": "YwhBwz-JjQMr"
      },
      "cell_type": "markdown",
      "source": "### Obtendo a moda em nosso dataset"
    },
    {
      "metadata": {
        "trusted": true
      },
      "cell_type": "code",
      "source": "Moda(dados$Renda)",
      "execution_count": null,
      "outputs": []
    },
    {
      "metadata": {
        "trusted": true
      },
      "cell_type": "code",
      "source": "Moda(dados$Altura)",
      "execution_count": null,
      "outputs": []
    },
    {
      "metadata": {
        "colab_type": "text",
        "id": "_-0gjQWFjQMu"
      },
      "cell_type": "markdown",
      "source": "## <font color=green>3.4 Relação entre média, mediana e moda</font>\n***"
    },
    {
      "metadata": {
        "colab_type": "text",
        "id": "0S7pa_jLjQMu"
      },
      "cell_type": "markdown",
      "source": "<img src='https://caelum-online-public.s3.amazonaws.com/1177-estatistica-parte1/01/img004.png' width='80%'>"
    },
    {
      "metadata": {},
      "cell_type": "markdown",
      "source": "### <font color=red>Documentações:\n    \n- [**as.numeric**](https://www.rdocumentation.org/packages/base/versions/3.6.1/topics/numeric)"
    },
    {
      "metadata": {
        "colab_type": "text",
        "id": "b7ZchyFsjQMu"
      },
      "cell_type": "markdown",
      "source": "### Avaliando a variável RENDA"
    },
    {
      "metadata": {
        "trusted": true
      },
      "cell_type": "code",
      "source": "ggplot(dados[dados$Renda < 20000, ], aes(x = Renda, y = ..density..)) + \n    geom_histogram(binwidth = 500) + \n    geom_density(color = 'green')",
      "execution_count": null,
      "outputs": []
    },
    {
      "metadata": {
        "trusted": true
      },
      "cell_type": "code",
      "source": "moda <- as.numeric(Moda(dados$Renda))\nmoda",
      "execution_count": null,
      "outputs": []
    },
    {
      "metadata": {
        "trusted": true
      },
      "cell_type": "code",
      "source": "mediana <- median(dados$Renda)\nmediana",
      "execution_count": null,
      "outputs": []
    },
    {
      "metadata": {
        "trusted": true
      },
      "cell_type": "code",
      "source": "media <- mean(dados$Renda)\nmedia",
      "execution_count": null,
      "outputs": []
    },
    {
      "metadata": {
        "colab": {
          "base_uri": "https://localhost:8080/",
          "height": 35
        },
        "colab_type": "code",
        "id": "nX6lnCBujQM0",
        "outputId": "d4bd80b4-9eee-4ad2-f41d-29c12362580e",
        "trusted": true
      },
      "cell_type": "code",
      "source": "moda < mediana\nmediana < media",
      "execution_count": null,
      "outputs": []
    },
    {
      "metadata": {
        "colab_type": "text",
        "id": "FnLQAxSijQM1"
      },
      "cell_type": "markdown",
      "source": "***"
    },
    {
      "metadata": {
        "colab_type": "text",
        "id": "WazchssNjQM1"
      },
      "cell_type": "markdown",
      "source": "### Avaliando a variável ALTURA"
    },
    {
      "metadata": {
        "colab": {
          "base_uri": "https://localhost:8080/",
          "height": 406
        },
        "colab_type": "code",
        "id": "41uJsCk9jQM2",
        "outputId": "3f7aec0c-e6b0-4629-d235-8061ce3b25c4",
        "trusted": true
      },
      "cell_type": "code",
      "source": "ggplot(dados, aes(x = Altura, y = ..density..)) + \n    geom_histogram() + \n    geom_density(color = 'green')",
      "execution_count": null,
      "outputs": []
    },
    {
      "metadata": {
        "colab": {
          "base_uri": "https://localhost:8080/",
          "height": 197
        },
        "colab_type": "code",
        "id": "EkgerGuXjQM3",
        "outputId": "2966d112-76a5-4286-923c-bb01f02c6acf",
        "trusted": true
      },
      "cell_type": "code",
      "source": "moda <- as.numeric(Moda(dados$Altura))\nmoda",
      "execution_count": null,
      "outputs": []
    },
    {
      "metadata": {
        "colab": {
          "base_uri": "https://localhost:8080/",
          "height": 35
        },
        "colab_type": "code",
        "id": "Jj6MFUXbjQM4",
        "outputId": "ef153a71-fa7b-4165-b23c-136157955825",
        "trusted": true
      },
      "cell_type": "code",
      "source": "mediana <- median(dados$Altura)\nmediana",
      "execution_count": null,
      "outputs": []
    },
    {
      "metadata": {
        "colab": {
          "base_uri": "https://localhost:8080/",
          "height": 35
        },
        "colab_type": "code",
        "id": "84X-3AzvjQM5",
        "outputId": "c2b94040-6ef1-46d1-cac1-58c8f6ba0d53",
        "trusted": true
      },
      "cell_type": "code",
      "source": "media <- mean(dados$Altura)\nmedia",
      "execution_count": null,
      "outputs": []
    },
    {
      "metadata": {
        "colab_type": "text",
        "id": "PJIMB8i8jQM6"
      },
      "cell_type": "markdown",
      "source": "***"
    },
    {
      "metadata": {
        "colab_type": "text",
        "id": "eS4I2H7jjQM7"
      },
      "cell_type": "markdown",
      "source": "### Avaliando a variável ANOS DE ESTUDO"
    },
    {
      "metadata": {
        "colab": {
          "base_uri": "https://localhost:8080/",
          "height": 407
        },
        "colab_type": "code",
        "id": "NPCcjXqPjQM8",
        "outputId": "e811449e-866e-4986-a20b-8f2d44ddb437",
        "trusted": true
      },
      "cell_type": "code",
      "source": "ggplot(dados, aes(x = Anos.de.Estudo, y = ..density..)) + \n    geom_histogram() + \n    geom_density(color = 'green')",
      "execution_count": null,
      "outputs": []
    },
    {
      "metadata": {
        "colab": {
          "base_uri": "https://localhost:8080/",
          "height": 35
        },
        "colab_type": "code",
        "id": "PjfvPYUajQM9",
        "outputId": "477cf5fc-d11a-4e6f-dc45-dade49eff315",
        "trusted": true
      },
      "cell_type": "code",
      "source": "moda <- as.numeric(Moda(dados$Anos.de.Estudo))\nmoda",
      "execution_count": null,
      "outputs": []
    },
    {
      "metadata": {
        "colab": {
          "base_uri": "https://localhost:8080/",
          "height": 35
        },
        "colab_type": "code",
        "id": "VF_Bj8x2jQM-",
        "outputId": "70b0abb2-902e-4f80-b8c7-fe0f8c0e3140",
        "trusted": true
      },
      "cell_type": "code",
      "source": "mediana <- median(dados$Anos.de.Estudo)\nmediana",
      "execution_count": null,
      "outputs": []
    },
    {
      "metadata": {
        "colab": {
          "base_uri": "https://localhost:8080/",
          "height": 35
        },
        "colab_type": "code",
        "id": "ohqUZ5RsjQNA",
        "outputId": "286e2b23-ef56-453f-e92a-2c73887c1af4",
        "trusted": true
      },
      "cell_type": "code",
      "source": "media = mean(dados$Anos.de.Estudo)\nmedia",
      "execution_count": null,
      "outputs": []
    },
    {
      "metadata": {
        "colab": {
          "base_uri": "https://localhost:8080/",
          "height": 35
        },
        "colab_type": "code",
        "id": "AwM8UvApjQNC",
        "outputId": "91f0c84b-13ff-43e1-cac0-46ce0527ddec",
        "trusted": true
      },
      "cell_type": "code",
      "source": "moda > mediana\nmediana > media",
      "execution_count": null,
      "outputs": []
    },
    {
      "metadata": {
        "colab_type": "text",
        "id": "vcaIo45UjQND"
      },
      "cell_type": "markdown",
      "source": "# <font color=green>4 MEDIDAS SEPARATRIZES</font>\n***"
    },
    {
      "metadata": {
        "colab_type": "text",
        "id": "f4XrApNxjQNE"
      },
      "cell_type": "markdown",
      "source": "## <font color=green>4.1 Quartis, decis e percentis</font>\n***\n\nHá uma série de medidas de posição semelhantes na sua concepção à mediana, embora não sejam medidas de tendência central. Como se sabe, a mediana divide a distribuição em duas partes iguais quanto ao número de elementos de cada parte. Já os quartis permitem dividir a distribuição em quatro partes iguais quanto ao número de elementos de cada uma; os decis em dez partes e os centis em cem partes iguais."
    },
    {
      "metadata": {
        "colab_type": "text",
        "id": "f4XrApNxjQNE"
      },
      "cell_type": "markdown",
      "source": "### <font color=red>Documentações:\n\n- [**quantile**](https://www.rdocumentation.org/packages/stats/versions/3.6.1/topics/quantile)\n- [**for**](https://www.rdocumentation.org/packages/base/versions/3.6.1/topics/Control)\n- [**length**](https://www.rdocumentation.org/packages/base/versions/3.6.1/topics/length)"
    },
    {
      "metadata": {
        "colab": {
          "base_uri": "https://localhost:8080/",
          "height": 89
        },
        "colab_type": "code",
        "id": "VmbdUO-ujQNE",
        "outputId": "d7a091db-3901-45ae-95c9-2d1a6b840cb6",
        "trusted": true
      },
      "cell_type": "code",
      "source": "quantile(dados$Renda, c(0.25, 0.5, 0.75))",
      "execution_count": null,
      "outputs": []
    },
    {
      "metadata": {
        "trusted": true
      },
      "cell_type": "code",
      "source": "decis <- c()\nfor(i in 1:9){\n    decis <- c(decis, i / 10)\n}\ndecis",
      "execution_count": null,
      "outputs": []
    },
    {
      "metadata": {
        "colab": {
          "base_uri": "https://localhost:8080/",
          "height": 197
        },
        "colab_type": "code",
        "id": "EpRKboV5jQNG",
        "outputId": "dfe7892e-35d2-4b99-a635-68a04967b84f",
        "trusted": true
      },
      "cell_type": "code",
      "source": "quantile(dados$Renda, decis)",
      "execution_count": null,
      "outputs": []
    },
    {
      "metadata": {
        "trusted": true
      },
      "cell_type": "code",
      "source": "centis <- c()\nfor(i in 1:99){\n    centis <- c(centis, i / 100)\n}\nquantile(dados$Renda, centis)",
      "execution_count": null,
      "outputs": []
    },
    {
      "metadata": {
        "trusted": true
      },
      "cell_type": "code",
      "source": "ggplot(data = dados, aes(x = Idade)) + \n    geom_histogram(\n        aes(y = cumsum(..count..)/sum(..count..)), \n        bins = 10\n    ) + \n    geom_freqpoly(\n        aes(y = cumsum(..count..)/sum(..count..)), \n        color = 'green'\n    )",
      "execution_count": null,
      "outputs": []
    },
    {
      "metadata": {
        "trusted": true
      },
      "cell_type": "code",
      "source": "decis <- c()\nfor(i in 1:9){\n    decis <- c(decis, i / 10)\n}\nquantile(dados$Idade, decis)",
      "execution_count": null,
      "outputs": []
    },
    {
      "metadata": {},
      "cell_type": "markdown",
      "source": "### Classificação percentual"
    },
    {
      "metadata": {
        "trusted": true
      },
      "cell_type": "code",
      "source": "length(dados$Idade[dados$Idade <= 40]) / length(dados$Idade) * 100",
      "execution_count": null,
      "outputs": []
    },
    {
      "metadata": {
        "colab_type": "text",
        "id": "6gIeZO_CjQNJ"
      },
      "cell_type": "markdown",
      "source": "## <font color=green>4.2 Box-plot</font>\n***\n\nO box plot dá uma idéia da posição, dispersão, assimetria, caudas e dados discrepantes (outliers). A posição central é dada pela mediana e a dispersão por $IIQ$. As posições relativas de $Q1$, $Mediana$ e $Q3$ dão uma noção da simetria da distribuição. Os comprimentos das cauda são dados pelas linhas que vão do retângulo aos valores remotos e pelos valores atípicos."
    },
    {
      "metadata": {
        "colab_type": "text",
        "id": "6gIeZO_CjQNJ"
      },
      "cell_type": "markdown",
      "source": "#### <font color=red>Documentações:\n\n- [**geom_boxplot**](https://www.rdocumentation.org/packages/ggplot2/versions/3.2.1/topics/geom_boxplot)\n- [**factor**](https://www.rdocumentation.org/packages/base/versions/3.6.1/topics/factor)"
    },
    {
      "metadata": {
        "colab_type": "text",
        "id": "VeiTE_gvjQNK"
      },
      "cell_type": "markdown",
      "source": "<img src='https://caelum-online-public.s3.amazonaws.com/1177-estatistica-parte1/01/img005.png' width='65%'>"
    },
    {
      "metadata": {
        "trusted": true
      },
      "cell_type": "code",
      "source": "sexo = c(\n    'Masculino', \n    'Feminino'\n)\ncor = c(\n    'Indígena', \n    'Branca', \n    'Preta', \n    'Amarela', \n    'Parda'\n)\nanos_de_estudo = c(\n    'Sem instrução e menos de 1 ano', \n    '1 ano', \n    '2 anos', \n    '3 anos', \n    '4 anos', \n    '5 anos', \n    '6 anos', \n    '7 anos', \n    '8 anos', \n    '9 anos', \n    '10 anos', \n    '11 anos', \n    '12 anos', \n    '13 anos', \n    '14 anos', \n    '15 anos ou mais', \n    'Não determinados'\n)",
      "execution_count": null,
      "outputs": []
    },
    {
      "metadata": {
        "trusted": true
      },
      "cell_type": "code",
      "source": "ggplot(data = dados, aes(x = \"\", y = Altura)) + \n    stat_boxplot(geom ='errorbar', width = 0.4) + \n    geom_boxplot(fill = '#3274A1') + \n    coord_flip() +\n    ylab(\"Metros\") + \n    xlab(\"\") + \n    ggtitle('Box-plot Alturas') +\n    formatos",
      "execution_count": null,
      "outputs": []
    },
    {
      "metadata": {
        "trusted": true
      },
      "cell_type": "code",
      "source": "ggplot(data = dados, aes(x = Sexo, y = Altura, group = Sexo)) + \n    stat_boxplot(geom ='errorbar', width = 0.4) + \n    geom_boxplot(fill = c('#3274A1', \"orange\")) + \n    coord_flip() +\n    ylab(\"Metros\") + \n    xlab(\"Sexo\") + \n    ggtitle('Box-plot Alturas X Sexo') +\n    formatos",
      "execution_count": null,
      "outputs": []
    },
    {
      "metadata": {
        "trusted": true
      },
      "cell_type": "code",
      "source": "dados$Cat.Sexo <- factor(dados$Sexo)\nlevels(dados$Cat.Sexo) <- sexo",
      "execution_count": null,
      "outputs": []
    },
    {
      "metadata": {
        "trusted": true
      },
      "cell_type": "code",
      "source": "head(dados)",
      "execution_count": null,
      "outputs": []
    },
    {
      "metadata": {
        "trusted": true
      },
      "cell_type": "code",
      "source": "ggplot(data = dados, aes(x = Cat.Sexo, y = Altura)) + \n    stat_boxplot(geom ='errorbar', width = 0.4) + \n    geom_boxplot(fill = c('#3274A1', \"orange\")) + \n    coord_flip() +\n    ylab(\"Metros\") + \n    xlab(\"Sexo\") + \n    ggtitle('Box-plot Alturas X Sexo') +\n    formatos",
      "execution_count": null,
      "outputs": []
    },
    {
      "metadata": {
        "trusted": true
      },
      "cell_type": "code",
      "source": "ggplot(data = dados[dados$Renda < 10000, ], aes(x = \"\", y = Renda)) + \n    stat_boxplot(geom ='errorbar', width = 0.4) + \n    geom_boxplot(fill = '#3274A1') + \n    coord_flip() +\n    ylab(\"R$\") + \n    xlab(\"\") + \n    ggtitle('Box-plot Renda') +\n    formatos",
      "execution_count": null,
      "outputs": []
    },
    {
      "metadata": {
        "trusted": true
      },
      "cell_type": "code",
      "source": "ggplot(data = dados[dados$Renda < 10000, ], aes(x = Cat.Sexo, y = Renda)) + \n    stat_boxplot(geom ='errorbar', width = 0.4) + \n    geom_boxplot(fill = c('#3274A1', \"orange\")) + \n    coord_flip() +\n    ylab(\"R$\") + \n    xlab(\"Sexo\") + \n    ggtitle('Box-plot Renda X Sexo') +\n    formatos",
      "execution_count": null,
      "outputs": []
    },
    {
      "metadata": {
        "trusted": true
      },
      "cell_type": "code",
      "source": "dados$Cat.Anos.de.Estudo <- factor(dados$Anos.de.Estudo, order = TRUE)\nlevels(dados$Cat.Anos.de.Estudo) <- anos_de_estudo",
      "execution_count": null,
      "outputs": []
    },
    {
      "metadata": {
        "trusted": true
      },
      "cell_type": "code",
      "source": "head(dados)",
      "execution_count": null,
      "outputs": []
    },
    {
      "metadata": {
        "trusted": true
      },
      "cell_type": "code",
      "source": "ggplot(data = dados, aes(x = \"\", y = Anos.de.Estudo)) + \n    stat_boxplot(geom ='errorbar', width = 0.4) + \n    geom_boxplot(fill = '#3274A1') + \n    coord_flip() +\n    ylab(\"Anos\") + \n    xlab(\"\") + \n    ggtitle('Box-plot Anos de Estudo') +\n    formatos",
      "execution_count": null,
      "outputs": []
    },
    {
      "metadata": {
        "trusted": true
      },
      "cell_type": "code",
      "source": "ggplot(data = dados, aes(x = Cat.Sexo, y = Anos.de.Estudo)) + \n    stat_boxplot(geom ='errorbar', width = 0.4) + \n    geom_boxplot(fill = c('#3274A1', \"orange\")) + \n    coord_flip() +\n    ylab(\"Anos\") + \n    xlab(\"Sexo\") + \n    ggtitle('Box-plot Anos de Estudo X Sexo') +\n    formatos",
      "execution_count": null,
      "outputs": []
    },
    {
      "metadata": {
        "colab_type": "text",
        "id": "amloMZwVjQNN"
      },
      "cell_type": "markdown",
      "source": "<img src='https://caelum-online-public.s3.amazonaws.com/1177-estatistica-parte1/01/img006.png' width='80%'>"
    },
    {
      "metadata": {
        "colab_type": "text",
        "id": "aJ6v_NI9jQNN"
      },
      "cell_type": "markdown",
      "source": "# <font color=green>5 MEDIDAS DE DISPERSÃO</font>\n***\n\nEmbora as medidas de posição forneçam uma sumarização bastante importante dos dados, elas podem não ser suficientes para caracterizar conjuntos distintos, especialmente quando as observações de determinada distribuição apresentarem dados muito dispersos."
    },
    {
      "metadata": {
        "colab_type": "text",
        "id": "D6xVxAQ7jQNO"
      },
      "cell_type": "markdown",
      "source": "## <font color=green>5.1 Desvio médio absoluto</font>\n***\n\n\n# $$DM = \\frac 1n\\sum_{i=1}^{n}|X_i-\\bar{X}|$$"
    },
    {
      "metadata": {
        "colab_type": "text",
        "id": "D6xVxAQ7jQNO"
      },
      "cell_type": "markdown",
      "source": "### <font color=red>Documentações:\n\n- [**sum**](https://www.rdocumentation.org/packages/base/versions/3.6.1/topics/sum)\n- [**abs**](https://www.rdocumentation.org/packages/base/versions/3.6.1/topics/MathFun)\n- [**DescTools**](https://www.rdocumentation.org/packages/DescTools/versions/0.99.30)\n- [**MeanAD**](https://www.rdocumentation.org/packages/DescTools/versions/0.99.30/topics/MeanAD)"
    },
    {
      "metadata": {
        "colab": {
          "base_uri": "https://localhost:8080/",
          "height": 266
        },
        "colab_type": "code",
        "id": "0sL31blV7nz3",
        "outputId": "5f44f5d3-88b4-40e2-810c-7e1e1a9bace0",
        "trusted": true
      },
      "cell_type": "code",
      "source": "df",
      "execution_count": 182,
      "outputs": [
        {
          "output_type": "display_data",
          "data": {
            "text/plain": "           Fulano Beltrano Sicrano\nMatemática  8     10.0     7.5    \nPortuguês  10      2.0     8.0    \nInglês      4      0.5     7.0    \nGeografia   8      1.0     8.0    \nHistória    6      3.0     8.0    \nFísica     10      9.5     8.5    \nQuímica     8     10.0     7.0    ",
            "text/latex": "A data.frame: 7 x 3\n\\begin{tabular}{r|lll}\n  & Fulano & Beltrano & Sicrano\\\\\n  & <dbl> & <dbl> & <dbl>\\\\\n\\hline\n\tMatemática &  8 & 10.0 & 7.5\\\\\n\tPortuguês & 10 &  2.0 & 8.0\\\\\n\tInglês &  4 &  0.5 & 7.0\\\\\n\tGeografia &  8 &  1.0 & 8.0\\\\\n\tHistória &  6 &  3.0 & 8.0\\\\\n\tFísica & 10 &  9.5 & 8.5\\\\\n\tQuímica &  8 & 10.0 & 7.0\\\\\n\\end{tabular}\n",
            "text/markdown": "\nA data.frame: 7 x 3\n\n| <!--/--> | Fulano &lt;dbl&gt; | Beltrano &lt;dbl&gt; | Sicrano &lt;dbl&gt; |\n|---|---|---|---|\n| Matemática |  8 | 10.0 | 7.5 |\n| Português | 10 |  2.0 | 8.0 |\n| Inglês |  4 |  0.5 | 7.0 |\n| Geografia |  8 |  1.0 | 8.0 |\n| História |  6 |  3.0 | 8.0 |\n| Física | 10 |  9.5 | 8.5 |\n| Química |  8 | 10.0 | 7.0 |\n\n",
            "text/html": "<table>\n<caption>A data.frame: 7 x 3</caption>\n<thead>\n\t<tr><th></th><th scope=col>Fulano</th><th scope=col>Beltrano</th><th scope=col>Sicrano</th></tr>\n\t<tr><th></th><th scope=col>&lt;dbl&gt;</th><th scope=col>&lt;dbl&gt;</th><th scope=col>&lt;dbl&gt;</th></tr>\n</thead>\n<tbody>\n\t<tr><th scope=row>Matemática</th><td> 8</td><td>10.0</td><td>7.5</td></tr>\n\t<tr><th scope=row>Português</th><td>10</td><td> 2.0</td><td>8.0</td></tr>\n\t<tr><th scope=row>Inglês</th><td> 4</td><td> 0.5</td><td>7.0</td></tr>\n\t<tr><th scope=row>Geografia</th><td> 8</td><td> 1.0</td><td>8.0</td></tr>\n\t<tr><th scope=row>História</th><td> 6</td><td> 3.0</td><td>8.0</td></tr>\n\t<tr><th scope=row>Física</th><td>10</td><td> 9.5</td><td>8.5</td></tr>\n\t<tr><th scope=row>Química</th><td> 8</td><td>10.0</td><td>7.0</td></tr>\n</tbody>\n</table>\n"
          },
          "metadata": {}
        }
      ]
    },
    {
      "metadata": {
        "trusted": true
      },
      "cell_type": "code",
      "source": "notas_fulano <- data.frame(Fulano = df$Fulano, row.names = row.names(df))\nnotas_fulano",
      "execution_count": 184,
      "outputs": [
        {
          "output_type": "display_data",
          "data": {
            "text/plain": "           Fulano\nMatemática  8    \nPortuguês  10    \nInglês      4    \nGeografia   8    \nHistória    6    \nFísica     10    \nQuímica     8    ",
            "text/latex": "A data.frame: 7 x 1\n\\begin{tabular}{r|l}\n  & Fulano\\\\\n  & <dbl>\\\\\n\\hline\n\tMatemática &  8\\\\\n\tPortuguês & 10\\\\\n\tInglês &  4\\\\\n\tGeografia &  8\\\\\n\tHistória &  6\\\\\n\tFísica & 10\\\\\n\tQuímica &  8\\\\\n\\end{tabular}\n",
            "text/markdown": "\nA data.frame: 7 x 1\n\n| <!--/--> | Fulano &lt;dbl&gt; |\n|---|---|\n| Matemática |  8 |\n| Português | 10 |\n| Inglês |  4 |\n| Geografia |  8 |\n| História |  6 |\n| Física | 10 |\n| Química |  8 |\n\n",
            "text/html": "<table>\n<caption>A data.frame: 7 x 1</caption>\n<thead>\n\t<tr><th></th><th scope=col>Fulano</th></tr>\n\t<tr><th></th><th scope=col>&lt;dbl&gt;</th></tr>\n</thead>\n<tbody>\n\t<tr><th scope=row>Matemática</th><td> 8</td></tr>\n\t<tr><th scope=row>Português</th><td>10</td></tr>\n\t<tr><th scope=row>Inglês</th><td> 4</td></tr>\n\t<tr><th scope=row>Geografia</th><td> 8</td></tr>\n\t<tr><th scope=row>História</th><td> 6</td></tr>\n\t<tr><th scope=row>Física</th><td>10</td></tr>\n\t<tr><th scope=row>Química</th><td> 8</td></tr>\n</tbody>\n</table>\n"
          },
          "metadata": {}
        }
      ]
    },
    {
      "metadata": {
        "colab": {
          "base_uri": "https://localhost:8080/",
          "height": 35
        },
        "colab_type": "code",
        "id": "8_Q2tOTmjQNO",
        "outputId": "5c0d8214-aa63-4d0f-cfb1-f61bc171195f",
        "trusted": true
      },
      "cell_type": "code",
      "source": "nota_media_fulano <- mean(notas_fulano$Fulano)\nnota_media_fulano",
      "execution_count": 186,
      "outputs": [
        {
          "output_type": "display_data",
          "data": {
            "text/plain": "[1] 7.714286",
            "text/latex": "7.71428571428571",
            "text/markdown": "7.71428571428571",
            "text/html": "7.71428571428571"
          },
          "metadata": {}
        }
      ]
    },
    {
      "metadata": {
        "trusted": true
      },
      "cell_type": "code",
      "source": "notas_fulano$Desvio <- notas_fulano$Fulano - nota_media_fulano\nnotas_fulano",
      "execution_count": 187,
      "outputs": [
        {
          "output_type": "display_data",
          "data": {
            "text/plain": "           Fulano Desvio    \nMatemática  8      0.2857143\nPortuguês  10      2.2857143\nInglês      4     -3.7142857\nGeografia   8      0.2857143\nHistória    6     -1.7142857\nFísica     10      2.2857143\nQuímica     8      0.2857143",
            "text/latex": "A data.frame: 7 x 2\n\\begin{tabular}{r|ll}\n  & Fulano & Desvio\\\\\n  & <dbl> & <dbl>\\\\\n\\hline\n\tMatemática &  8 &  0.2857143\\\\\n\tPortuguês & 10 &  2.2857143\\\\\n\tInglês &  4 & -3.7142857\\\\\n\tGeografia &  8 &  0.2857143\\\\\n\tHistória &  6 & -1.7142857\\\\\n\tFísica & 10 &  2.2857143\\\\\n\tQuímica &  8 &  0.2857143\\\\\n\\end{tabular}\n",
            "text/markdown": "\nA data.frame: 7 x 2\n\n| <!--/--> | Fulano &lt;dbl&gt; | Desvio &lt;dbl&gt; |\n|---|---|---|\n| Matemática |  8 |  0.2857143 |\n| Português | 10 |  2.2857143 |\n| Inglês |  4 | -3.7142857 |\n| Geografia |  8 |  0.2857143 |\n| História |  6 | -1.7142857 |\n| Física | 10 |  2.2857143 |\n| Química |  8 |  0.2857143 |\n\n",
            "text/html": "<table>\n<caption>A data.frame: 7 x 2</caption>\n<thead>\n\t<tr><th></th><th scope=col>Fulano</th><th scope=col>Desvio</th></tr>\n\t<tr><th></th><th scope=col>&lt;dbl&gt;</th><th scope=col>&lt;dbl&gt;</th></tr>\n</thead>\n<tbody>\n\t<tr><th scope=row>Matemática</th><td> 8</td><td> 0.2857143</td></tr>\n\t<tr><th scope=row>Português</th><td>10</td><td> 2.2857143</td></tr>\n\t<tr><th scope=row>Inglês</th><td> 4</td><td>-3.7142857</td></tr>\n\t<tr><th scope=row>Geografia</th><td> 8</td><td> 0.2857143</td></tr>\n\t<tr><th scope=row>História</th><td> 6</td><td>-1.7142857</td></tr>\n\t<tr><th scope=row>Física</th><td>10</td><td> 2.2857143</td></tr>\n\t<tr><th scope=row>Química</th><td> 8</td><td> 0.2857143</td></tr>\n</tbody>\n</table>\n"
          },
          "metadata": {}
        }
      ]
    },
    {
      "metadata": {
        "colab": {
          "base_uri": "https://localhost:8080/",
          "height": 35
        },
        "colab_type": "code",
        "id": "OiWDTw0ljQNQ",
        "outputId": "0123646d-ad0d-457e-cc5a-035bd6a843ec",
        "trusted": true
      },
      "cell_type": "code",
      "source": "sum(notas_fulano$Desvio)",
      "execution_count": 188,
      "outputs": [
        {
          "output_type": "display_data",
          "data": {
            "text/plain": "[1] -8.881784e-16",
            "text/latex": "-8.88178419700125e-16",
            "text/markdown": "-8.88178419700125e-16",
            "text/html": "-8.88178419700125e-16"
          },
          "metadata": {}
        }
      ]
    },
    {
      "metadata": {
        "colab": {
          "base_uri": "https://localhost:8080/",
          "height": 266
        },
        "colab_type": "code",
        "id": "qQbjktz5jQNR",
        "outputId": "d3649964-e345-457c-859c-e179e57e1468",
        "trusted": true
      },
      "cell_type": "code",
      "source": "notas_fulano$Desvio.Absoluto <- abs(notas_fulano$Desvio)\nnotas_fulano",
      "execution_count": 189,
      "outputs": [
        {
          "output_type": "display_data",
          "data": {
            "text/plain": "           Fulano Desvio     Desvio.Absoluto\nMatemática  8      0.2857143 0.2857143      \nPortuguês  10      2.2857143 2.2857143      \nInglês      4     -3.7142857 3.7142857      \nGeografia   8      0.2857143 0.2857143      \nHistória    6     -1.7142857 1.7142857      \nFísica     10      2.2857143 2.2857143      \nQuímica     8      0.2857143 0.2857143      ",
            "text/latex": "A data.frame: 7 x 3\n\\begin{tabular}{r|lll}\n  & Fulano & Desvio & Desvio.Absoluto\\\\\n  & <dbl> & <dbl> & <dbl>\\\\\n\\hline\n\tMatemática &  8 &  0.2857143 & 0.2857143\\\\\n\tPortuguês & 10 &  2.2857143 & 2.2857143\\\\\n\tInglês &  4 & -3.7142857 & 3.7142857\\\\\n\tGeografia &  8 &  0.2857143 & 0.2857143\\\\\n\tHistória &  6 & -1.7142857 & 1.7142857\\\\\n\tFísica & 10 &  2.2857143 & 2.2857143\\\\\n\tQuímica &  8 &  0.2857143 & 0.2857143\\\\\n\\end{tabular}\n",
            "text/markdown": "\nA data.frame: 7 x 3\n\n| <!--/--> | Fulano &lt;dbl&gt; | Desvio &lt;dbl&gt; | Desvio.Absoluto &lt;dbl&gt; |\n|---|---|---|---|\n| Matemática |  8 |  0.2857143 | 0.2857143 |\n| Português | 10 |  2.2857143 | 2.2857143 |\n| Inglês |  4 | -3.7142857 | 3.7142857 |\n| Geografia |  8 |  0.2857143 | 0.2857143 |\n| História |  6 | -1.7142857 | 1.7142857 |\n| Física | 10 |  2.2857143 | 2.2857143 |\n| Química |  8 |  0.2857143 | 0.2857143 |\n\n",
            "text/html": "<table>\n<caption>A data.frame: 7 x 3</caption>\n<thead>\n\t<tr><th></th><th scope=col>Fulano</th><th scope=col>Desvio</th><th scope=col>Desvio.Absoluto</th></tr>\n\t<tr><th></th><th scope=col>&lt;dbl&gt;</th><th scope=col>&lt;dbl&gt;</th><th scope=col>&lt;dbl&gt;</th></tr>\n</thead>\n<tbody>\n\t<tr><th scope=row>Matemática</th><td> 8</td><td> 0.2857143</td><td>0.2857143</td></tr>\n\t<tr><th scope=row>Português</th><td>10</td><td> 2.2857143</td><td>2.2857143</td></tr>\n\t<tr><th scope=row>Inglês</th><td> 4</td><td>-3.7142857</td><td>3.7142857</td></tr>\n\t<tr><th scope=row>Geografia</th><td> 8</td><td> 0.2857143</td><td>0.2857143</td></tr>\n\t<tr><th scope=row>História</th><td> 6</td><td>-1.7142857</td><td>1.7142857</td></tr>\n\t<tr><th scope=row>Física</th><td>10</td><td> 2.2857143</td><td>2.2857143</td></tr>\n\t<tr><th scope=row>Química</th><td> 8</td><td> 0.2857143</td><td>0.2857143</td></tr>\n</tbody>\n</table>\n"
          },
          "metadata": {}
        }
      ]
    },
    {
      "metadata": {
        "trusted": true
      },
      "cell_type": "code",
      "source": "ggplot(data = notas_fulano, aes(x = row.names(notas_fulano), y = Fulano)) + \n    geom_point() + \n    geom_hline(yintercept = mean(notas_fulano$Fulano), color = 'red') + \n    geom_segment(aes(x = 1, y = 10, xend = 1, yend = mean(notas_fulano$Fulano))) + \n    geom_segment(aes(x = 2, y = 8, xend = 2, yend = mean(notas_fulano$Fulano))) + \n    geom_segment(aes(x = 3, y = 6, xend = 3, yend = mean(notas_fulano$Fulano))) + \n    geom_segment(aes(x = 4, y = 4, xend = 4, yend = mean(notas_fulano$Fulano))) + \n    geom_segment(aes(x = 5, y = 8, xend = 5, yend = mean(notas_fulano$Fulano))) + \n    geom_segment(aes(x = 6, y = 10, xend = 6, yend = mean(notas_fulano$Fulano))) + \n    geom_segment(aes(x = 7, y = 8, xend = 7, yend = mean(notas_fulano$Fulano)))",
      "execution_count": 190,
      "outputs": [
        {
          "output_type": "display_data",
          "data": {
            "image/png": "",
            "image/jpeg": "[encoded data removed]",
            "image/svg+xml": "<?xml version=\"1.0\" encoding=\"UTF-8\"?>\n<svg xmlns=\"http://www.w3.org/2000/svg\" xmlns:xlink=\"http://www.w3.org/1999/xlink\" width=\"504pt\" height=\"288pt\" viewBox=\"0 0 504 288\" version=\"1.1\">\n<defs>\n<g>\n<symbol overflow=\"visible\" id=\"glyph0-0\">\n<path style=\"stroke:none;\" d=\"\"/>\n</symbol>\n<symbol overflow=\"visible\" id=\"glyph0-1\">\n<path style=\"stroke:none;\" d=\"M 5 -1.71875 L 5 -2.59375 L 4.015625 -2.59375 L 4.015625 -6.875 L 3.171875 -6.875 L 0.09375 -2.609375 L 0.09375 -1.578125 L 2.875 -1.578125 L 2.875 0 L 4.015625 0 L 4.015625 -1.578125 L 5 -1.578125 Z M 3.046875 -2.59375 L 1.265625 -2.59375 L 3.15625 -5.234375 L 2.875 -5.34375 L 2.875 -2.59375 Z M 3.046875 -2.59375 \"/>\n</symbol>\n<symbol overflow=\"visible\" id=\"glyph0-2\">\n<path style=\"stroke:none;\" d=\"M 4.921875 -2.1875 C 4.921875 -3.40625 3.9375 -4.375 2.75 -4.375 C 2.09375 -4.375 1.46875 -4.09375 1.109375 -3.609375 L 1.390625 -3.5 C 1.40625 -5.109375 1.765625 -5.859375 2.703125 -5.859375 C 3.28125 -5.859375 3.515625 -5.640625 3.671875 -4.875 L 4.8125 -4.875 C 4.625 -6.09375 3.765625 -6.875 2.765625 -6.875 C 1.234375 -6.875 0.234375 -5.4375 0.234375 -3.140625 C 0.234375 -1.09375 1.109375 0.140625 2.609375 0.140625 C 3.875 0.140625 4.921875 -0.890625 4.921875 -2.1875 Z M 3.765625 -2.125 C 3.765625 -1.296875 3.375 -0.859375 2.625 -0.859375 C 1.859375 -0.859375 1.4375 -1.3125 1.4375 -2.171875 C 1.4375 -2.984375 1.84375 -3.375 2.65625 -3.375 C 3.4375 -3.375 3.765625 -3 3.765625 -2.125 Z M 3.765625 -2.125 \"/>\n</symbol>\n<symbol overflow=\"visible\" id=\"glyph0-3\">\n<path style=\"stroke:none;\" d=\"M 4.921875 -2 C 4.921875 -2.734375 4.390625 -3.390625 3.921875 -3.609375 C 4.421875 -3.90625 4.6875 -4.34375 4.6875 -4.96875 C 4.6875 -6 3.734375 -6.875 2.5625 -6.875 C 1.390625 -6.875 0.40625 -6 0.40625 -4.96875 C 0.40625 -4.359375 0.671875 -3.921875 1.1875 -3.609375 C 0.71875 -3.390625 0.171875 -2.734375 0.171875 -2.015625 C 0.171875 -0.796875 1.25 0.140625 2.5625 0.140625 C 3.859375 0.140625 4.921875 -0.796875 4.921875 -2 Z M 3.53125 -4.953125 C 3.53125 -4.34375 3.25 -4.078125 2.5625 -4.078125 C 1.875 -4.078125 1.578125 -4.34375 1.578125 -4.96875 C 1.578125 -5.59375 1.875 -5.859375 2.5625 -5.859375 C 3.25 -5.859375 3.53125 -5.59375 3.53125 -4.953125 Z M 3.765625 -1.984375 C 3.765625 -1.203125 3.375 -0.859375 2.53125 -0.859375 C 1.734375 -0.859375 1.34375 -1.21875 1.34375 -1.984375 C 1.34375 -2.765625 1.734375 -3.109375 2.5625 -3.109375 C 3.375 -3.109375 3.765625 -2.765625 3.765625 -1.984375 Z M 3.765625 -1.984375 \"/>\n</symbol>\n<symbol overflow=\"visible\" id=\"glyph0-4\">\n<path style=\"stroke:none;\" d=\"M 3.390625 -0.140625 L 3.390625 -6.875 L 2.5625 -6.875 C 2.234375 -5.71875 2.21875 -5.71875 0.78125 -5.546875 L 0.78125 -4.6875 L 2.234375 -4.6875 L 2.234375 0 L 3.390625 0 Z M 3.390625 -0.140625 \"/>\n</symbol>\n<symbol overflow=\"visible\" id=\"glyph0-5\">\n<path style=\"stroke:none;\" d=\"M 4.875 -3.3125 C 4.875 -5.59375 3.984375 -6.875 2.5625 -6.875 C 1.140625 -6.875 0.234375 -5.578125 0.234375 -3.359375 C 0.234375 -1.140625 1.140625 0.140625 2.5625 0.140625 C 3.953125 0.140625 4.875 -1.140625 4.875 -3.3125 Z M 3.703125 -3.390625 C 3.703125 -1.515625 3.453125 -0.8125 2.53125 -0.8125 C 1.671875 -0.8125 1.390625 -1.546875 1.390625 -3.359375 C 1.390625 -5.15625 1.671875 -5.859375 2.5625 -5.859375 C 3.4375 -5.859375 3.703125 -5.15625 3.703125 -3.390625 Z M 3.703125 -3.390625 \"/>\n</symbol>\n<symbol overflow=\"visible\" id=\"glyph0-6\">\n<path style=\"stroke:none;\" d=\"M 5.546875 -6.15625 L 5.546875 -7.0625 L 0.671875 -7.0625 L 0.671875 0 L 1.859375 0 L 1.859375 -3.09375 L 5.09375 -3.09375 L 5.09375 -4.125 L 1.859375 -4.125 L 1.859375 -6.015625 L 5.546875 -6.015625 Z M 5.546875 -6.15625 \"/>\n</symbol>\n<symbol overflow=\"visible\" id=\"glyph0-7\">\n<path style=\"stroke:none;\" d=\"M 1.84375 -0.140625 L 1.84375 -5.15625 L 0.75 -5.15625 L 0.75 0 L 1.84375 0 Z M 2.859375 -7.0625 L 1.71875 -7.0625 L 0.640625 -5.40625 L 1.546875 -5.40625 L 3.21875 -7.0625 Z M 2.859375 -7.0625 \"/>\n</symbol>\n<symbol overflow=\"visible\" id=\"glyph0-8\">\n<path style=\"stroke:none;\" d=\"M 4.421875 -1.5 C 4.421875 -2.234375 3.859375 -2.734375 2.890625 -2.96875 L 2.140625 -3.140625 C 1.515625 -3.296875 1.40625 -3.359375 1.40625 -3.703125 C 1.40625 -4.140625 1.640625 -4.296875 2.28125 -4.296875 C 2.90625 -4.296875 3.0625 -4.171875 3.09375 -3.515625 L 4.234375 -3.515625 C 4.21875 -4.609375 3.4375 -5.296875 2.3125 -5.296875 C 1.171875 -5.296875 0.265625 -4.5625 0.265625 -3.65625 C 0.265625 -2.90625 0.828125 -2.40625 1.984375 -2.125 L 2.703125 -1.9375 C 3.25 -1.8125 3.296875 -1.796875 3.296875 -1.4375 C 3.296875 -0.984375 3 -0.859375 2.328125 -0.859375 C 1.625 -0.859375 1.390625 -0.890625 1.28125 -1.765625 L 0.140625 -1.765625 C 0.1875 -0.5 0.984375 0.140625 2.265625 0.140625 C 3.484375 0.140625 4.421875 -0.5625 4.421875 -1.5 Z M 4.421875 -1.5 \"/>\n</symbol>\n<symbol overflow=\"visible\" id=\"glyph0-9\">\n<path style=\"stroke:none;\" d=\"M 1.578125 -0.140625 L 1.578125 -5.15625 L 0.484375 -5.15625 L 0.484375 0 L 1.578125 0 Z M 1.6875 -5.75 L 1.6875 -6.859375 L 0.390625 -6.859375 L 0.390625 -5.609375 L 1.6875 -5.609375 Z M 1.6875 -5.75 \"/>\n</symbol>\n<symbol overflow=\"visible\" id=\"glyph0-10\">\n<path style=\"stroke:none;\" d=\"M 4.4375 -1.953125 L 3.515625 -1.953125 C 3.359375 -1.03125 3.125 -0.859375 2.46875 -0.859375 C 1.609375 -0.859375 1.25 -1.375 1.25 -2.53125 C 1.25 -3.75 1.59375 -4.296875 2.4375 -4.296875 C 3.09375 -4.296875 3.34375 -4.046875 3.453125 -3.234375 L 4.546875 -3.234375 C 4.4375 -4.5625 3.546875 -5.296875 2.453125 -5.296875 C 1.140625 -5.296875 0.125 -4.140625 0.125 -2.53125 C 0.125 -0.953125 1.125 0.140625 2.4375 0.140625 C 3.609375 0.140625 4.5 -0.703125 4.609375 -1.953125 Z M 4.4375 -1.953125 \"/>\n</symbol>\n<symbol overflow=\"visible\" id=\"glyph0-11\">\n<path style=\"stroke:none;\" d=\"M 5.125 -0.15625 L 5.125 -0.921875 C 4.890625 -0.859375 4.859375 -0.859375 4.8125 -0.859375 C 4.53125 -0.859375 4.546875 -0.859375 4.546875 -1.109375 L 4.546875 -3.828125 C 4.546875 -4.6875 3.75 -5.296875 2.5625 -5.296875 C 1.375 -5.296875 0.484375 -4.6875 0.421875 -3.4375 L 1.53125 -3.4375 C 1.609375 -4.171875 1.796875 -4.296875 2.53125 -4.296875 C 3.21875 -4.296875 3.453125 -4.171875 3.453125 -3.703125 L 3.453125 -3.5 C 3.453125 -3.171875 3.421875 -3.171875 2.8125 -3.109375 C 1.703125 -2.96875 1.546875 -2.921875 1.25 -2.8125 C 0.671875 -2.578125 0.21875 -2 0.21875 -1.40625 C 0.21875 -0.515625 1 0.140625 1.984375 0.140625 C 2.609375 0.140625 3.328125 -0.15625 3.546875 -0.40625 C 3.5625 -0.34375 4.0625 0.0625 4.4375 0.0625 C 4.609375 0.0625 4.71875 0.046875 5.125 -0.0625 Z M 3.453125 -1.828125 C 3.453125 -1.125 2.90625 -0.8125 2.15625 -0.8125 C 1.546875 -0.8125 1.359375 -0.890625 1.359375 -1.421875 C 1.359375 -1.9375 1.546875 -2.015625 2.375 -2.140625 C 3.1875 -2.25 3.359375 -2.28125 3.453125 -2.328125 Z M 3.453125 -1.828125 \"/>\n</symbol>\n<symbol overflow=\"visible\" id=\"glyph0-12\">\n<path style=\"stroke:none;\" d=\"M 6.75 -0.140625 L 6.75 -3.859375 L 3.59375 -3.859375 L 3.59375 -2.8125 L 5.65625 -2.8125 L 5.65625 -2.765625 C 5.65625 -1.5625 4.9375 -0.875 3.703125 -0.875 C 2.171875 -0.875 1.4375 -1.84375 1.4375 -3.5 C 1.4375 -5.171875 2.21875 -6.1875 3.65625 -6.1875 C 4.6875 -6.1875 5.265625 -5.734375 5.46875 -4.71875 L 6.6875 -4.71875 C 6.421875 -6.234375 5.21875 -7.21875 3.65625 -7.21875 C 1.59375 -7.21875 0.234375 -5.484375 0.234375 -3.453125 C 0.234375 -1.375 1.6875 0.171875 3.515625 0.171875 C 4.4375 0.171875 5.28125 -0.1875 5.734375 -0.703125 L 5.90625 0 L 6.75 0 Z M 6.75 -0.140625 \"/>\n</symbol>\n<symbol overflow=\"visible\" id=\"glyph0-13\">\n<path style=\"stroke:none;\" d=\"M 4.921875 -2.359375 C 4.921875 -3.0625 4.875 -3.5 4.734375 -3.875 C 4.421875 -4.671875 3.515625 -5.296875 2.609375 -5.296875 C 1.25 -5.296875 0.203125 -4.140625 0.203125 -2.546875 C 0.203125 -0.953125 1.21875 0.140625 2.578125 0.140625 C 3.703125 0.140625 4.625 -0.625 4.859375 -1.75 L 3.765625 -1.75 C 3.5 -0.96875 3.234375 -0.859375 2.609375 -0.859375 C 1.796875 -0.859375 1.359375 -1.234375 1.34375 -2.21875 L 4.921875 -2.21875 Z M 4.046875 -2.9375 C 4.046875 -2.9375 3.828125 -3.109375 3.84375 -3.125 L 1.359375 -3.125 C 1.421875 -3.84375 1.8125 -4.296875 2.59375 -4.296875 C 3.359375 -4.296875 3.78125 -3.796875 3.78125 -3.046875 Z M 4.046875 -2.9375 \"/>\n</symbol>\n<symbol overflow=\"visible\" id=\"glyph0-14\">\n<path style=\"stroke:none;\" d=\"M 4.90625 -2.53125 C 4.90625 -4.21875 3.9375 -5.296875 2.53125 -5.296875 C 1.15625 -5.296875 0.171875 -4.21875 0.171875 -2.578125 C 0.171875 -0.9375 1.15625 0.140625 2.53125 0.140625 C 3.90625 0.140625 4.90625 -0.9375 4.90625 -2.53125 Z M 3.765625 -2.546875 C 3.765625 -1.40625 3.390625 -0.859375 2.53125 -0.859375 C 1.671875 -0.859375 1.296875 -1.390625 1.296875 -2.578125 C 1.296875 -3.75 1.671875 -4.296875 2.53125 -4.296875 C 3.40625 -4.296875 3.765625 -3.75 3.765625 -2.546875 Z M 3.765625 -2.546875 \"/>\n</symbol>\n<symbol overflow=\"visible\" id=\"glyph0-15\">\n<path style=\"stroke:none;\" d=\"M 4.703125 -0.9375 L 4.703125 -5.15625 L 3.65625 -5.15625 L 3.65625 -4.296875 L 3.9375 -4.40625 C 3.546875 -4.984375 2.96875 -5.296875 2.34375 -5.296875 C 1.109375 -5.296875 0.109375 -4.109375 0.109375 -2.53125 C 0.109375 -1 1.140625 0.140625 2.28125 0.140625 C 2.890625 0.140625 3.4375 -0.15625 3.9375 -0.765625 L 3.65625 -0.875 L 3.65625 -0.546875 C 3.65625 0.75 3.296875 1.09375 2.40625 1.09375 C 1.78125 1.09375 1.46875 1.015625 1.359375 0.28125 L 0.25 0.28125 C 0.34375 1.34375 1.234375 2.03125 2.375 2.03125 C 3.890625 2.03125 4.703125 1.203125 4.703125 -0.9375 Z M 3.59375 -2.546875 C 3.59375 -1.390625 3.25 -0.859375 2.4375 -0.859375 C 1.59375 -0.859375 1.234375 -1.390625 1.234375 -2.578125 C 1.234375 -3.75 1.59375 -4.296875 2.421875 -4.296875 C 3.265625 -4.296875 3.59375 -3.734375 3.59375 -2.546875 Z M 3.59375 -2.546875 \"/>\n</symbol>\n<symbol overflow=\"visible\" id=\"glyph0-16\">\n<path style=\"stroke:none;\" d=\"M 3.140625 -4.328125 L 3.140625 -5.25 C 2.859375 -5.28125 2.796875 -5.296875 2.6875 -5.296875 C 2.1875 -5.296875 1.6875 -4.953125 1.234375 -4.234375 L 1.515625 -4.125 L 1.515625 -5.15625 L 0.484375 -5.15625 L 0.484375 0 L 1.578125 0 L 1.578125 -2.671875 C 1.578125 -3.765625 1.78125 -4.171875 3.140625 -4.1875 Z M 3.140625 -4.328125 \"/>\n</symbol>\n<symbol overflow=\"visible\" id=\"glyph0-17\">\n<path style=\"stroke:none;\" d=\"M 2.5625 -4.375 L 2.5625 -5.15625 L 1.75 -5.15625 L 1.75 -5.765625 C 1.75 -6.09375 1.78125 -6.125 2.125 -6.125 C 2.1875 -6.125 2.21875 -6.125 2.5625 -6.109375 L 2.5625 -7.015625 C 2.21875 -7.078125 2.125 -7.078125 1.96875 -7.078125 C 1.25 -7.078125 0.65625 -6.53125 0.65625 -5.84375 L 0.65625 -5.15625 L 0 -5.15625 L 0 -4.234375 L 0.65625 -4.234375 L 0.65625 0 L 1.75 0 L 1.75 -4.234375 L 2.5625 -4.234375 Z M 2.5625 -4.375 \"/>\n</symbol>\n<symbol overflow=\"visible\" id=\"glyph0-18\">\n<path style=\"stroke:none;\" d=\"M 6.140625 -0.140625 L 6.140625 -7.0625 L 4.953125 -7.0625 L 4.953125 -4.125 L 1.796875 -4.125 L 1.796875 -7.0625 L 0.609375 -7.0625 L 0.609375 0 L 1.796875 0 L 1.796875 -3.09375 L 4.953125 -3.09375 L 4.953125 0 L 6.140625 0 Z M 6.140625 -0.140625 \"/>\n</symbol>\n<symbol overflow=\"visible\" id=\"glyph0-19\">\n<path style=\"stroke:none;\" d=\"M 2.515625 -0.140625 L 2.515625 -0.96875 C 2.265625 -0.90625 2.140625 -0.890625 1.984375 -0.890625 C 1.65625 -0.890625 1.71875 -0.84375 1.71875 -1.1875 L 1.71875 -4.234375 L 2.515625 -4.234375 L 2.515625 -5.15625 L 1.71875 -5.15625 L 1.71875 -6.484375 L 0.625 -6.484375 L 0.625 -5.15625 L -0.03125 -5.15625 L -0.03125 -4.234375 L 0.625 -4.234375 L 0.625 -0.84375 C 0.625 -0.359375 1.125 0.0625 1.734375 0.0625 C 1.921875 0.0625 2.09375 0.046875 2.515625 -0.03125 Z M 2.515625 -0.140625 \"/>\n</symbol>\n<symbol overflow=\"visible\" id=\"glyph0-20\">\n<path style=\"stroke:none;\" d=\"M 4.90625 -2.53125 C 4.90625 -4.21875 3.9375 -5.296875 2.53125 -5.296875 C 1.15625 -5.296875 0.171875 -4.21875 0.171875 -2.578125 C 0.171875 -0.9375 1.15625 0.140625 2.53125 0.140625 C 3.90625 0.140625 4.90625 -0.9375 4.90625 -2.53125 Z M 3.765625 -2.546875 C 3.765625 -1.40625 3.390625 -0.859375 2.53125 -0.859375 C 1.671875 -0.859375 1.296875 -1.390625 1.296875 -2.578125 C 1.296875 -3.75 1.671875 -4.296875 2.53125 -4.296875 C 3.40625 -4.296875 3.765625 -3.75 3.765625 -2.546875 Z M 4.25 -7.0625 L 3.109375 -7.0625 L 2.03125 -5.40625 L 2.921875 -5.40625 L 4.609375 -7.0625 Z M 4.25 -7.0625 \"/>\n</symbol>\n<symbol overflow=\"visible\" id=\"glyph0-21\">\n<path style=\"stroke:none;\" d=\"M 1.953125 -0.140625 L 1.953125 -7.0625 L 0.765625 -7.0625 L 0.765625 0 L 1.953125 0 Z M 1.953125 -0.140625 \"/>\n</symbol>\n<symbol overflow=\"visible\" id=\"glyph0-22\">\n<path style=\"stroke:none;\" d=\"M 4.6875 -0.140625 L 4.6875 -3.828125 C 4.6875 -4.625 3.921875 -5.296875 2.984375 -5.296875 C 2.265625 -5.296875 1.671875 -4.96875 1.25 -4.296875 L 1.53125 -4.1875 L 1.53125 -5.15625 L 0.484375 -5.15625 L 0.484375 0 L 1.578125 0 L 1.578125 -2.828125 C 1.578125 -3.828125 1.96875 -4.328125 2.75 -4.328125 C 3.359375 -4.328125 3.59375 -4.09375 3.59375 -3.515625 L 3.59375 0 L 4.6875 0 Z M 4.6875 -0.140625 \"/>\n</symbol>\n<symbol overflow=\"visible\" id=\"glyph0-23\">\n<path style=\"stroke:none;\" d=\"M 1.5625 -0.140625 L 1.5625 -7.0625 L 0.46875 -7.0625 L 0.46875 0 L 1.5625 0 Z M 1.5625 -0.140625 \"/>\n</symbol>\n<symbol overflow=\"visible\" id=\"glyph0-24\">\n<path style=\"stroke:none;\" d=\"M 4.921875 -2.359375 C 4.921875 -3.0625 4.875 -3.5 4.734375 -3.875 C 4.421875 -4.671875 3.515625 -5.296875 2.609375 -5.296875 C 1.25 -5.296875 0.203125 -4.140625 0.203125 -2.546875 C 0.203125 -0.953125 1.21875 0.140625 2.578125 0.140625 C 3.703125 0.140625 4.625 -0.625 4.859375 -1.75 L 3.765625 -1.75 C 3.5 -0.96875 3.234375 -0.859375 2.609375 -0.859375 C 1.796875 -0.859375 1.359375 -1.234375 1.34375 -2.21875 L 4.921875 -2.21875 Z M 4.046875 -2.9375 C 4.046875 -2.9375 3.828125 -3.109375 3.84375 -3.125 L 1.359375 -3.125 C 1.421875 -3.84375 1.8125 -4.296875 2.59375 -4.296875 C 3.359375 -4.296875 3.78125 -3.796875 3.78125 -3.046875 Z M 4.046875 -5.640625 L 3.125 -7.0625 L 2.0625 -7.0625 L 0.984375 -5.390625 L 1.9375 -5.390625 L 2.59375 -6.1875 L 3.265625 -5.390625 L 4.203125 -5.390625 Z M 4.046875 -5.640625 \"/>\n</symbol>\n<symbol overflow=\"visible\" id=\"glyph0-25\">\n<path style=\"stroke:none;\" d=\"M 7.234375 -0.140625 L 7.234375 -7.0625 L 5.75 -7.0625 L 3.734375 -1.015625 L 4.0625 -1.015625 L 2.015625 -7.0625 L 0.53125 -7.0625 L 0.53125 0 L 1.671875 0 L 1.671875 -5.8125 L 1.34375 -5.8125 L 3.3125 0 L 4.46875 0 L 6.421875 -5.8125 L 6.09375 -5.8125 L 6.09375 0 L 7.234375 0 Z M 7.234375 -0.140625 \"/>\n</symbol>\n<symbol overflow=\"visible\" id=\"glyph0-26\">\n<path style=\"stroke:none;\" d=\"M 7.21875 -0.140625 L 7.21875 -3.796875 C 7.21875 -4.671875 6.578125 -5.296875 5.671875 -5.296875 C 5.015625 -5.296875 4.515625 -5.0625 4.1875 -4.671875 C 4 -5.03125 3.5 -5.296875 2.859375 -5.296875 C 2.21875 -5.296875 1.671875 -5.015625 1.25 -4.421875 L 1.53125 -4.328125 L 1.53125 -5.15625 L 0.5 -5.15625 L 0.5 0 L 1.59375 0 L 1.59375 -3.203125 C 1.59375 -3.90625 1.9375 -4.328125 2.578125 -4.328125 C 3.15625 -4.328125 3.3125 -4.125 3.3125 -3.5 L 3.3125 0 L 4.40625 0 L 4.40625 -3.203125 C 4.40625 -3.90625 4.765625 -4.328125 5.40625 -4.328125 C 5.96875 -4.328125 6.125 -4.109375 6.125 -3.5 L 6.125 0 L 7.21875 0 Z M 7.21875 -0.140625 \"/>\n</symbol>\n<symbol overflow=\"visible\" id=\"glyph0-27\">\n<path style=\"stroke:none;\" d=\"M 5.125 -0.15625 L 5.125 -0.921875 C 4.890625 -0.859375 4.859375 -0.859375 4.8125 -0.859375 C 4.53125 -0.859375 4.546875 -0.859375 4.546875 -1.109375 L 4.546875 -3.828125 C 4.546875 -4.6875 3.75 -5.296875 2.5625 -5.296875 C 1.375 -5.296875 0.484375 -4.6875 0.421875 -3.4375 L 1.53125 -3.4375 C 1.609375 -4.171875 1.796875 -4.296875 2.53125 -4.296875 C 3.21875 -4.296875 3.453125 -4.171875 3.453125 -3.703125 L 3.453125 -3.5 C 3.453125 -3.171875 3.421875 -3.171875 2.8125 -3.109375 C 1.703125 -2.96875 1.546875 -2.921875 1.25 -2.8125 C 0.671875 -2.578125 0.21875 -2 0.21875 -1.40625 C 0.21875 -0.515625 1 0.140625 1.984375 0.140625 C 2.609375 0.140625 3.328125 -0.15625 3.546875 -0.40625 C 3.5625 -0.34375 4.0625 0.0625 4.4375 0.0625 C 4.609375 0.0625 4.71875 0.046875 5.125 -0.0625 Z M 3.453125 -1.828125 C 3.453125 -1.125 2.90625 -0.8125 2.15625 -0.8125 C 1.546875 -0.8125 1.359375 -0.890625 1.359375 -1.421875 C 1.359375 -1.9375 1.546875 -2.015625 2.375 -2.140625 C 3.1875 -2.25 3.359375 -2.28125 3.453125 -2.328125 Z M 4.21875 -7.0625 L 3.078125 -7.0625 L 2 -5.40625 L 2.90625 -5.40625 L 4.578125 -7.0625 Z M 4.21875 -7.0625 \"/>\n</symbol>\n<symbol overflow=\"visible\" id=\"glyph0-28\">\n<path style=\"stroke:none;\" d=\"M 5.890625 -4.921875 C 5.890625 -6.203125 4.984375 -7.0625 3.640625 -7.0625 L 0.671875 -7.0625 L 0.671875 0 L 1.875 0 L 1.875 -2.875 L 3.84375 -2.875 C 4.953125 -2.875 5.890625 -3.796875 5.890625 -4.921875 Z M 4.671875 -4.96875 C 4.671875 -4.21875 4.34375 -3.90625 3.515625 -3.90625 L 1.875 -3.90625 L 1.875 -6.015625 L 3.515625 -6.015625 C 4.34375 -6.015625 4.671875 -5.703125 4.671875 -4.96875 Z M 4.671875 -4.96875 \"/>\n</symbol>\n<symbol overflow=\"visible\" id=\"glyph0-29\">\n<path style=\"stroke:none;\" d=\"M 4.640625 -0.140625 L 4.640625 -5.15625 L 3.546875 -5.15625 L 3.546875 -2.328125 C 3.546875 -1.328125 3.1875 -0.8125 2.375 -0.8125 C 1.765625 -0.8125 1.53125 -1.046875 1.53125 -1.640625 L 1.53125 -5.15625 L 0.4375 -5.15625 L 0.4375 -1.328125 C 0.4375 -0.515625 1.203125 0.140625 2.15625 0.140625 C 2.875 0.140625 3.4375 -0.15625 3.890625 -0.796875 L 3.609375 -0.890625 L 3.609375 0 L 4.640625 0 Z M 4.640625 -0.140625 \"/>\n</symbol>\n<symbol overflow=\"visible\" id=\"glyph0-30\">\n<path style=\"stroke:none;\" d=\"M 7.0625 -3.5 C 7.0625 -5.59375 5.578125 -7.21875 3.625 -7.21875 C 1.671875 -7.21875 0.1875 -5.59375 0.1875 -3.484375 C 0.1875 -1.359375 1.671875 0.171875 3.625 0.171875 C 4.296875 0.171875 4.96875 -0.015625 5.375 -0.265625 L 6.390625 0.578125 L 7.015625 -0.1875 L 6.15625 -0.90625 C 6.6875 -1.5 7.0625 -2.421875 7.0625 -3.5 Z M 5.859375 -3.484375 C 5.859375 -2.609375 5.6875 -2.078125 5.28125 -1.625 L 4.4375 -2.3125 L 3.828125 -1.546875 L 4.46875 -1.015625 C 4.328125 -0.953125 4.03125 -0.875 3.609375 -0.875 C 2.171875 -0.875 1.375 -1.796875 1.375 -3.484375 C 1.375 -5.15625 2.1875 -6.1875 3.625 -6.1875 C 5.0625 -6.1875 5.859375 -5.15625 5.859375 -3.484375 Z M 5.859375 -3.484375 \"/>\n</symbol>\n<symbol overflow=\"visible\" id=\"glyph1-0\">\n<path style=\"stroke:none;\" d=\"\"/>\n</symbol>\n<symbol overflow=\"visible\" id=\"glyph1-1\">\n<path style=\"stroke:none;\" d=\"M 3.8125 -5.3125 L 3.8125 -6.40625 C 3.53125 -6.4375 3.453125 -6.453125 3.328125 -6.453125 C 2.703125 -6.453125 2.125 -6.046875 1.578125 -5.15625 L 1.8125 -5.0625 L 1.8125 -6.28125 L 0.671875 -6.28125 L 0.671875 0 L 1.890625 0 L 1.890625 -3.25 C 1.890625 -4.609375 2.203125 -5.15625 3.8125 -5.1875 Z M 3.8125 -5.3125 \"/>\n</symbol>\n<symbol overflow=\"visible\" id=\"glyph1-2\">\n<path style=\"stroke:none;\" d=\"M 5.984375 -3.09375 C 5.984375 -5.171875 4.859375 -6.453125 3.125 -6.453125 C 1.4375 -6.453125 0.28125 -5.15625 0.28125 -3.140625 C 0.28125 -1.109375 1.421875 0.171875 3.140625 0.171875 C 4.828125 0.171875 5.984375 -1.109375 5.984375 -3.09375 Z M 4.71875 -3.109375 C 4.71875 -1.6875 4.203125 -0.96875 3.140625 -0.96875 C 2.0625 -0.96875 1.546875 -1.671875 1.546875 -3.140625 C 1.546875 -4.59375 2.0625 -5.3125 3.140625 -5.3125 C 4.21875 -5.3125 4.71875 -4.59375 4.71875 -3.109375 Z M 4.71875 -3.109375 \"/>\n</symbol>\n<symbol overflow=\"visible\" id=\"glyph1-3\">\n<path style=\"stroke:none;\" d=\"M 8.140625 -6.28125 L 6.953125 -6.28125 L 5.734375 -1.453125 L 5.984375 -1.453125 L 4.765625 -6.28125 L 3.40625 -6.28125 L 2.21875 -1.453125 L 2.484375 -1.453125 L 1.21875 -6.28125 L -0.109375 -6.28125 L 1.71875 0 L 2.984375 0 L 4.1875 -4.859375 L 3.921875 -4.859375 L 5.171875 0 L 6.46875 0 L 8.296875 -6.28125 Z M 8.140625 -6.28125 \"/>\n</symbol>\n<symbol overflow=\"visible\" id=\"glyph1-4\">\n<path style=\"stroke:none;\" d=\"M 2.328125 -0.125 L 2.328125 -1.453125 L 0.859375 -1.453125 L 0.859375 0 L 2.328125 0 Z M 2.328125 -0.125 \"/>\n</symbol>\n<symbol overflow=\"visible\" id=\"glyph1-5\">\n<path style=\"stroke:none;\" d=\"M 5.734375 -0.125 L 5.734375 -4.6875 C 5.734375 -5.6875 4.859375 -6.453125 3.6875 -6.453125 C 2.796875 -6.453125 2.109375 -6.078125 1.59375 -5.234375 L 1.8125 -5.140625 L 1.8125 -6.28125 L 0.671875 -6.28125 L 0.671875 0 L 1.890625 0 L 1.890625 -3.453125 C 1.890625 -4.6875 2.421875 -5.359375 3.40625 -5.359375 C 4.15625 -5.359375 4.515625 -5.03125 4.515625 -4.296875 L 4.515625 0 L 5.734375 0 Z M 5.734375 -0.125 \"/>\n</symbol>\n<symbol overflow=\"visible\" id=\"glyph1-6\">\n<path style=\"stroke:none;\" d=\"M 6.28125 -0.15625 L 6.28125 -1.03125 C 6.046875 -0.984375 6 -0.984375 5.953125 -0.984375 C 5.609375 -0.984375 5.546875 -1.03125 5.546875 -1.328125 L 5.546875 -4.6875 C 5.546875 -5.75 4.640625 -6.453125 3.15625 -6.453125 C 1.703125 -6.453125 0.671875 -5.765625 0.609375 -4.25 L 1.828125 -4.25 C 1.921875 -5.109375 2.234375 -5.3125 3.125 -5.3125 C 3.984375 -5.3125 4.328125 -5.125 4.328125 -4.546875 L 4.328125 -4.296875 C 4.328125 -3.890625 4.234375 -3.84375 3.46875 -3.75 C 2.109375 -3.578125 1.90625 -3.53125 1.546875 -3.375 C 0.84375 -3.09375 0.34375 -2.421875 0.34375 -1.6875 C 0.34375 -0.59375 1.234375 0.171875 2.46875 0.171875 C 3.234375 0.171875 4.078125 -0.1875 4.421875 -0.578125 C 4.46875 -0.375 5.03125 0.078125 5.5 0.078125 C 5.6875 0.078125 5.84375 0.0625 6.28125 -0.046875 Z M 4.328125 -2.203125 C 4.328125 -1.34375 3.59375 -0.921875 2.671875 -0.921875 C 1.921875 -0.921875 1.609375 -1.0625 1.609375 -1.71875 C 1.609375 -2.34375 1.90625 -2.5 2.9375 -2.640625 C 3.9375 -2.78125 4.15625 -2.828125 4.328125 -2.90625 Z M 4.328125 -2.203125 \"/>\n</symbol>\n<symbol overflow=\"visible\" id=\"glyph1-7\">\n<path style=\"stroke:none;\" d=\"M 8.859375 -0.125 L 8.859375 -4.640625 C 8.859375 -5.734375 8.140625 -6.453125 7.015625 -6.453125 C 6.203125 -6.453125 5.625 -6.171875 5.171875 -5.640625 C 4.90625 -6.140625 4.328125 -6.453125 3.546875 -6.453125 C 2.734375 -6.453125 2.109375 -6.125 1.59375 -5.390625 L 1.8125 -5.296875 L 1.8125 -6.28125 L 0.671875 -6.28125 L 0.671875 0 L 1.890625 0 L 1.890625 -3.90625 C 1.890625 -4.78125 2.40625 -5.359375 3.1875 -5.359375 C 3.90625 -5.359375 4.15625 -5.046875 4.15625 -4.28125 L 4.15625 0 L 5.375 0 L 5.375 -3.90625 C 5.375 -4.78125 5.90625 -5.359375 6.6875 -5.359375 C 7.390625 -5.359375 7.640625 -5.03125 7.640625 -4.28125 L 7.640625 0 L 8.859375 0 Z M 8.859375 -0.125 \"/>\n</symbol>\n<symbol overflow=\"visible\" id=\"glyph1-8\">\n<path style=\"stroke:none;\" d=\"M 6.03125 -2.859375 C 6.03125 -3.734375 5.953125 -4.296875 5.78125 -4.734375 C 5.390625 -5.734375 4.34375 -6.453125 3.21875 -6.453125 C 1.546875 -6.453125 0.328125 -5.078125 0.328125 -3.109375 C 0.328125 -1.125 1.5 0.171875 3.203125 0.171875 C 4.578125 0.171875 5.65625 -0.734375 5.921875 -2.078125 L 4.71875 -2.078125 C 4.40625 -1.15625 4 -0.96875 3.234375 -0.96875 C 2.234375 -0.96875 1.609375 -1.484375 1.59375 -2.734375 L 6.03125 -2.734375 Z M 4.96875 -3.625 C 4.96875 -3.625 4.765625 -3.765625 4.78125 -3.765625 L 1.625 -3.765625 C 1.6875 -4.71875 2.25 -5.3125 3.203125 -5.3125 C 4.15625 -5.3125 4.734375 -4.65625 4.734375 -3.71875 Z M 4.96875 -3.625 \"/>\n</symbol>\n<symbol overflow=\"visible\" id=\"glyph1-9\">\n<path style=\"stroke:none;\" d=\"M 5.40625 -1.8125 C 5.40625 -2.71875 4.765625 -3.28125 3.578125 -3.578125 L 2.65625 -3.796875 C 1.875 -3.984375 1.671875 -4.109375 1.671875 -4.53125 C 1.671875 -5.078125 2.03125 -5.3125 2.8125 -5.3125 C 3.59375 -5.3125 3.859375 -5.109375 3.890625 -4.34375 L 5.15625 -4.34375 C 5.15625 -5.65625 4.25 -6.453125 2.859375 -6.453125 C 1.453125 -6.453125 0.40625 -5.59375 0.40625 -4.484375 C 0.40625 -3.546875 1.03125 -2.96875 2.453125 -2.625 L 3.34375 -2.40625 C 4.015625 -2.25 4.140625 -2.171875 4.140625 -1.734375 C 4.140625 -1.171875 3.71875 -0.96875 2.875 -0.96875 C 2.015625 -0.96875 1.65625 -1.046875 1.5 -2.09375 L 0.25 -2.09375 C 0.296875 -0.578125 1.21875 0.171875 2.796875 0.171875 C 4.3125 0.171875 5.40625 -0.65625 5.40625 -1.8125 Z M 5.40625 -1.8125 \"/>\n</symbol>\n<symbol overflow=\"visible\" id=\"glyph1-10\">\n<path style=\"stroke:none;\" d=\"M 3.4375 2.21875 C 2.421875 0.578125 1.890625 -1.265625 1.890625 -3.109375 C 1.890625 -4.9375 2.421875 -6.78125 3.578125 -8.640625 L 2.640625 -8.640625 C 1.453125 -7.09375 0.703125 -4.90625 0.703125 -3.109375 C 0.703125 -1.28125 1.453125 0.890625 2.640625 2.4375 L 3.578125 2.4375 Z M 3.4375 2.21875 \"/>\n</symbol>\n<symbol overflow=\"visible\" id=\"glyph1-11\">\n<path style=\"stroke:none;\" d=\"M 3.046875 -0.125 L 3.046875 -1.109375 C 2.796875 -1.03125 2.640625 -1.015625 2.46875 -1.015625 C 2.046875 -1.015625 2.0625 -1 2.0625 -1.421875 L 2.0625 -5.25 L 3.046875 -5.25 L 3.046875 -6.28125 L 2.0625 -6.28125 L 2.0625 -7.9375 L 0.84375 -7.9375 L 0.84375 -6.28125 L 0.015625 -6.28125 L 0.015625 -5.25 L 0.84375 -5.25 L 0.84375 -1 C 0.84375 -0.390625 1.390625 0.078125 2.140625 0.078125 C 2.375 0.078125 2.59375 0.0625 3.046875 -0.015625 Z M 3.046875 -0.125 \"/>\n</symbol>\n<symbol overflow=\"visible\" id=\"glyph1-12\">\n<path style=\"stroke:none;\" d=\"M 6.765625 1.90625 L 6.765625 1.203125 L -0.390625 1.203125 L -0.390625 2.03125 L 6.765625 2.03125 Z M 6.765625 1.90625 \"/>\n</symbol>\n<symbol overflow=\"visible\" id=\"glyph1-13\">\n<path style=\"stroke:none;\" d=\"M 3.09375 -5.375 L 3.09375 -6.28125 L 2.09375 -6.28125 L 2.09375 -7.09375 C 2.09375 -7.5 2.203125 -7.578125 2.640625 -7.578125 C 2.71875 -7.578125 2.75 -7.578125 3.09375 -7.5625 L 3.09375 -8.59375 C 2.75 -8.65625 2.625 -8.671875 2.421875 -8.671875 C 1.546875 -8.671875 0.875 -8.03125 0.875 -7.171875 L 0.875 -6.28125 L 0.0625 -6.28125 L 0.0625 -5.25 L 0.875 -5.25 L 0.875 0 L 2.09375 0 L 2.09375 -5.25 L 3.09375 -5.25 Z M 3.09375 -5.375 \"/>\n</symbol>\n<symbol overflow=\"visible\" id=\"glyph1-14\">\n<path style=\"stroke:none;\" d=\"M 5.671875 -0.125 L 5.671875 -6.28125 L 4.453125 -6.28125 L 4.453125 -2.828125 C 4.453125 -1.59375 3.9375 -0.921875 2.9375 -0.921875 C 2.1875 -0.921875 1.828125 -1.25 1.828125 -1.984375 L 1.828125 -6.28125 L 0.609375 -6.28125 L 0.609375 -1.59375 C 0.609375 -0.59375 1.5 0.171875 2.671875 0.171875 C 3.546875 0.171875 4.203125 -0.171875 4.765625 -0.96875 L 4.546875 -1.0625 L 4.546875 0 L 5.671875 0 Z M 5.671875 -0.125 \"/>\n</symbol>\n<symbol overflow=\"visible\" id=\"glyph1-15\">\n<path style=\"stroke:none;\" d=\"M 1.859375 -0.125 L 1.859375 -8.640625 L 0.640625 -8.640625 L 0.640625 0 L 1.859375 0 Z M 1.859375 -0.125 \"/>\n</symbol>\n<symbol overflow=\"visible\" id=\"glyph1-16\">\n<path style=\"stroke:none;\" d=\"M 3.078125 -3.09375 C 3.078125 -4.90625 2.3125 -7.09375 1.125 -8.640625 L 0.203125 -8.640625 C 1.34375 -6.765625 1.875 -4.9375 1.875 -3.09375 C 1.875 -1.265625 1.34375 0.59375 0.203125 2.4375 L 1.125 2.4375 C 2.3125 0.890625 3.078125 -1.28125 3.078125 -3.09375 Z M 3.078125 -3.09375 \"/>\n</symbol>\n<symbol overflow=\"visible\" id=\"glyph2-0\">\n<path style=\"stroke:none;\" d=\"\"/>\n</symbol>\n<symbol overflow=\"visible\" id=\"glyph2-1\">\n<path style=\"stroke:none;\" d=\"M -7.5625 -6.78125 L -8.640625 -6.78125 L -8.640625 -0.890625 L 0 -0.890625 L 0 -2.234375 L -3.8125 -2.234375 L -3.8125 -6.234375 L -5.015625 -6.234375 L -5.015625 -2.234375 L -7.4375 -2.234375 L -7.4375 -6.78125 Z M -7.5625 -6.78125 \"/>\n</symbol>\n<symbol overflow=\"visible\" id=\"glyph2-2\">\n<path style=\"stroke:none;\" d=\"M -0.125 -5.671875 L -6.28125 -5.671875 L -6.28125 -4.453125 L -2.828125 -4.453125 C -1.59375 -4.453125 -0.921875 -3.9375 -0.921875 -2.9375 C -0.921875 -2.1875 -1.25 -1.828125 -1.984375 -1.828125 L -6.28125 -1.828125 L -6.28125 -0.609375 L -1.59375 -0.609375 C -0.59375 -0.609375 0.171875 -1.5 0.171875 -2.671875 C 0.171875 -3.546875 -0.171875 -4.203125 -0.96875 -4.765625 L -1.0625 -4.546875 L 0 -4.546875 L 0 -5.671875 Z M -0.125 -5.671875 \"/>\n</symbol>\n<symbol overflow=\"visible\" id=\"glyph2-3\">\n<path style=\"stroke:none;\" d=\"M -0.125 -1.859375 L -8.640625 -1.859375 L -8.640625 -0.640625 L 0 -0.640625 L 0 -1.859375 Z M -0.125 -1.859375 \"/>\n</symbol>\n<symbol overflow=\"visible\" id=\"glyph2-4\">\n<path style=\"stroke:none;\" d=\"M -0.15625 -6.28125 L -1.03125 -6.28125 C -0.984375 -6.046875 -0.984375 -6 -0.984375 -5.953125 C -0.984375 -5.609375 -1.03125 -5.546875 -1.328125 -5.546875 L -4.6875 -5.546875 C -5.75 -5.546875 -6.453125 -4.640625 -6.453125 -3.15625 C -6.453125 -1.703125 -5.765625 -0.671875 -4.25 -0.609375 L -4.25 -1.828125 C -5.109375 -1.921875 -5.3125 -2.234375 -5.3125 -3.125 C -5.3125 -3.984375 -5.125 -4.328125 -4.546875 -4.328125 L -4.296875 -4.328125 C -3.890625 -4.328125 -3.84375 -4.234375 -3.75 -3.46875 C -3.578125 -2.109375 -3.53125 -1.90625 -3.375 -1.546875 C -3.09375 -0.84375 -2.421875 -0.34375 -1.6875 -0.34375 C -0.59375 -0.34375 0.171875 -1.234375 0.171875 -2.46875 C 0.171875 -3.234375 -0.1875 -4.078125 -0.578125 -4.421875 C -0.375 -4.46875 0.078125 -5.03125 0.078125 -5.5 C 0.078125 -5.6875 0.0625 -5.84375 -0.046875 -6.28125 Z M -2.203125 -4.328125 C -1.34375 -4.328125 -0.921875 -3.59375 -0.921875 -2.671875 C -0.921875 -1.921875 -1.0625 -1.609375 -1.71875 -1.609375 C -2.34375 -1.609375 -2.5 -1.90625 -2.640625 -2.9375 C -2.78125 -3.9375 -2.828125 -4.15625 -2.90625 -4.328125 Z M -2.203125 -4.328125 \"/>\n</symbol>\n<symbol overflow=\"visible\" id=\"glyph2-5\">\n<path style=\"stroke:none;\" d=\"M -0.125 -5.734375 L -4.6875 -5.734375 C -5.6875 -5.734375 -6.453125 -4.859375 -6.453125 -3.6875 C -6.453125 -2.796875 -6.078125 -2.109375 -5.234375 -1.59375 L -5.140625 -1.8125 L -6.28125 -1.8125 L -6.28125 -0.671875 L 0 -0.671875 L 0 -1.890625 L -3.453125 -1.890625 C -4.6875 -1.890625 -5.359375 -2.421875 -5.359375 -3.40625 C -5.359375 -4.15625 -5.03125 -4.515625 -4.296875 -4.515625 L 0 -4.515625 L 0 -5.734375 Z M -0.125 -5.734375 \"/>\n</symbol>\n<symbol overflow=\"visible\" id=\"glyph2-6\">\n<path style=\"stroke:none;\" d=\"M -3.09375 -5.984375 C -5.171875 -5.984375 -6.453125 -4.859375 -6.453125 -3.125 C -6.453125 -1.4375 -5.15625 -0.28125 -3.140625 -0.28125 C -1.109375 -0.28125 0.171875 -1.421875 0.171875 -3.140625 C 0.171875 -4.828125 -1.109375 -5.984375 -3.09375 -5.984375 Z M -3.109375 -4.71875 C -1.6875 -4.71875 -0.96875 -4.203125 -0.96875 -3.140625 C -0.96875 -2.0625 -1.671875 -1.546875 -3.140625 -1.546875 C -4.59375 -1.546875 -5.3125 -2.0625 -5.3125 -3.140625 C -5.3125 -4.21875 -4.59375 -4.71875 -3.109375 -4.71875 Z M -3.109375 -4.71875 \"/>\n</symbol>\n</g>\n<clipPath id=\"clip1\">\n  <path d=\"M 34.128906 5.480469 L 499 5.480469 L 499 256 L 34.128906 256 Z M 34.128906 5.480469 \"/>\n</clipPath>\n<clipPath id=\"clip2\">\n  <path d=\"M 34.128906 205 L 499 205 L 499 207 L 34.128906 207 Z M 34.128906 205 \"/>\n</clipPath>\n<clipPath id=\"clip3\">\n  <path d=\"M 34.128906 129 L 499 129 L 499 131 L 34.128906 131 Z M 34.128906 129 \"/>\n</clipPath>\n<clipPath id=\"clip4\">\n  <path d=\"M 34.128906 54 L 499 54 L 499 56 L 34.128906 56 Z M 34.128906 54 \"/>\n</clipPath>\n<clipPath id=\"clip5\">\n  <path d=\"M 34.128906 243 L 499.519531 243 L 499.519531 245 L 34.128906 245 Z M 34.128906 243 \"/>\n</clipPath>\n<clipPath id=\"clip6\">\n  <path d=\"M 34.128906 167 L 499.519531 167 L 499.519531 169 L 34.128906 169 Z M 34.128906 167 \"/>\n</clipPath>\n<clipPath id=\"clip7\">\n  <path d=\"M 34.128906 91 L 499.519531 91 L 499.519531 94 L 34.128906 94 Z M 34.128906 91 \"/>\n</clipPath>\n<clipPath id=\"clip8\">\n  <path d=\"M 34.128906 16 L 499.519531 16 L 499.519531 18 L 34.128906 18 Z M 34.128906 16 \"/>\n</clipPath>\n<clipPath id=\"clip9\">\n  <path d=\"M 72 5.480469 L 74 5.480469 L 74 256 L 72 256 Z M 72 5.480469 \"/>\n</clipPath>\n<clipPath id=\"clip10\">\n  <path d=\"M 136 5.480469 L 139 5.480469 L 139 256 L 136 256 Z M 136 5.480469 \"/>\n</clipPath>\n<clipPath id=\"clip11\">\n  <path d=\"M 201 5.480469 L 203 5.480469 L 203 256 L 201 256 Z M 201 5.480469 \"/>\n</clipPath>\n<clipPath id=\"clip12\">\n  <path d=\"M 265 5.480469 L 268 5.480469 L 268 256 L 265 256 Z M 265 5.480469 \"/>\n</clipPath>\n<clipPath id=\"clip13\">\n  <path d=\"M 330 5.480469 L 332 5.480469 L 332 256 L 330 256 Z M 330 5.480469 \"/>\n</clipPath>\n<clipPath id=\"clip14\">\n  <path d=\"M 394 5.480469 L 397 5.480469 L 397 256 L 394 256 Z M 394 5.480469 \"/>\n</clipPath>\n<clipPath id=\"clip15\">\n  <path d=\"M 459 5.480469 L 461 5.480469 L 461 256 L 459 256 Z M 459 5.480469 \"/>\n</clipPath>\n<clipPath id=\"clip16\">\n  <path d=\"M 34.128906 102 L 499.519531 102 L 499.519531 105 L 34.128906 105 Z M 34.128906 102 \"/>\n</clipPath>\n</defs>\n<g id=\"surface1651\">\n<rect x=\"0\" y=\"0\" width=\"504\" height=\"288\" style=\"fill:rgb(100%,100%,100%);fill-opacity:1;stroke:none;\"/>\n<rect x=\"0\" y=\"0\" width=\"504\" height=\"288\" style=\"fill:rgb(100%,100%,100%);fill-opacity:1;stroke:none;\"/>\n<path style=\"fill:none;stroke-width:1.422638;stroke-linecap:round;stroke-linejoin:round;stroke:rgb(100%,100%,100%);stroke-opacity:1;stroke-miterlimit:10;\" d=\"M 0 0 L 504 0 L 504 288 L 0 288 Z M 0 0 \"/>\n<g clip-path=\"url(#clip1)\" clip-rule=\"nonzero\">\n<path style=\" stroke:none;fill-rule:nonzero;fill:rgb(92.156863%,92.156863%,92.156863%);fill-opacity:1;\" d=\"M 34.128906 5.480469 L 498.519531 5.480469 L 498.519531 255.148438 L 34.128906 255.148438 Z M 34.128906 5.480469 \"/>\n</g>\n<g clip-path=\"url(#clip2)\" clip-rule=\"nonzero\">\n<path style=\"fill:none;stroke-width:0.711319;stroke-linecap:butt;stroke-linejoin:round;stroke:rgb(100%,100%,100%);stroke-opacity:1;stroke-miterlimit:10;\" d=\"M 34.128906 205.96875 L 498.519531 205.96875 \"/>\n</g>\n<g clip-path=\"url(#clip3)\" clip-rule=\"nonzero\">\n<path style=\"fill:none;stroke-width:0.711319;stroke-linecap:butt;stroke-linejoin:round;stroke:rgb(100%,100%,100%);stroke-opacity:1;stroke-miterlimit:10;\" d=\"M 34.128906 130.3125 L 498.519531 130.3125 \"/>\n</g>\n<g clip-path=\"url(#clip4)\" clip-rule=\"nonzero\">\n<path style=\"fill:none;stroke-width:0.711319;stroke-linecap:butt;stroke-linejoin:round;stroke:rgb(100%,100%,100%);stroke-opacity:1;stroke-miterlimit:10;\" d=\"M 34.128906 54.65625 L 498.519531 54.65625 \"/>\n</g>\n<g clip-path=\"url(#clip5)\" clip-rule=\"nonzero\">\n<path style=\"fill:none;stroke-width:1.422638;stroke-linecap:butt;stroke-linejoin:round;stroke:rgb(100%,100%,100%);stroke-opacity:1;stroke-miterlimit:10;\" d=\"M 34.128906 243.796875 L 498.519531 243.796875 \"/>\n</g>\n<g clip-path=\"url(#clip6)\" clip-rule=\"nonzero\">\n<path style=\"fill:none;stroke-width:1.422638;stroke-linecap:butt;stroke-linejoin:round;stroke:rgb(100%,100%,100%);stroke-opacity:1;stroke-miterlimit:10;\" d=\"M 34.128906 168.140625 L 498.519531 168.140625 \"/>\n</g>\n<g clip-path=\"url(#clip7)\" clip-rule=\"nonzero\">\n<path style=\"fill:none;stroke-width:1.422638;stroke-linecap:butt;stroke-linejoin:round;stroke:rgb(100%,100%,100%);stroke-opacity:1;stroke-miterlimit:10;\" d=\"M 34.128906 92.484375 L 498.519531 92.484375 \"/>\n</g>\n<g clip-path=\"url(#clip8)\" clip-rule=\"nonzero\">\n<path style=\"fill:none;stroke-width:1.422638;stroke-linecap:butt;stroke-linejoin:round;stroke:rgb(100%,100%,100%);stroke-opacity:1;stroke-miterlimit:10;\" d=\"M 34.128906 16.828125 L 498.519531 16.828125 \"/>\n</g>\n<g clip-path=\"url(#clip9)\" clip-rule=\"nonzero\">\n<path style=\"fill:none;stroke-width:1.422638;stroke-linecap:butt;stroke-linejoin:round;stroke:rgb(100%,100%,100%);stroke-opacity:1;stroke-miterlimit:10;\" d=\"M 72.828125 255.144531 L 72.828125 5.480469 \"/>\n</g>\n<g clip-path=\"url(#clip10)\" clip-rule=\"nonzero\">\n<path style=\"fill:none;stroke-width:1.422638;stroke-linecap:butt;stroke-linejoin:round;stroke:rgb(100%,100%,100%);stroke-opacity:1;stroke-miterlimit:10;\" d=\"M 137.328125 255.144531 L 137.328125 5.480469 \"/>\n</g>\n<g clip-path=\"url(#clip11)\" clip-rule=\"nonzero\">\n<path style=\"fill:none;stroke-width:1.422638;stroke-linecap:butt;stroke-linejoin:round;stroke:rgb(100%,100%,100%);stroke-opacity:1;stroke-miterlimit:10;\" d=\"M 201.828125 255.144531 L 201.828125 5.480469 \"/>\n</g>\n<g clip-path=\"url(#clip12)\" clip-rule=\"nonzero\">\n<path style=\"fill:none;stroke-width:1.422638;stroke-linecap:butt;stroke-linejoin:round;stroke:rgb(100%,100%,100%);stroke-opacity:1;stroke-miterlimit:10;\" d=\"M 266.324219 255.144531 L 266.324219 5.480469 \"/>\n</g>\n<g clip-path=\"url(#clip13)\" clip-rule=\"nonzero\">\n<path style=\"fill:none;stroke-width:1.422638;stroke-linecap:butt;stroke-linejoin:round;stroke:rgb(100%,100%,100%);stroke-opacity:1;stroke-miterlimit:10;\" d=\"M 330.824219 255.144531 L 330.824219 5.480469 \"/>\n</g>\n<g clip-path=\"url(#clip14)\" clip-rule=\"nonzero\">\n<path style=\"fill:none;stroke-width:1.422638;stroke-linecap:butt;stroke-linejoin:round;stroke:rgb(100%,100%,100%);stroke-opacity:1;stroke-miterlimit:10;\" d=\"M 395.324219 255.144531 L 395.324219 5.480469 \"/>\n</g>\n<g clip-path=\"url(#clip15)\" clip-rule=\"nonzero\">\n<path style=\"fill:none;stroke-width:1.422638;stroke-linecap:butt;stroke-linejoin:round;stroke:rgb(100%,100%,100%);stroke-opacity:1;stroke-miterlimit:10;\" d=\"M 459.820312 255.144531 L 459.820312 5.480469 \"/>\n</g>\n<path style=\"fill-rule:nonzero;fill:rgb(0%,0%,0%);fill-opacity:1;stroke-width:0.944882;stroke-linecap:round;stroke-linejoin:round;stroke:rgb(0%,0%,0%);stroke-opacity:1;stroke-miterlimit:10;\" d=\"M 333.277344 92.484375 C 333.277344 95.757812 328.367188 95.757812 328.367188 92.484375 C 328.367188 89.210938 333.277344 89.210938 333.277344 92.484375 \"/>\n<path style=\"fill-rule:nonzero;fill:rgb(0%,0%,0%);fill-opacity:1;stroke-width:0.944882;stroke-linecap:round;stroke-linejoin:round;stroke:rgb(0%,0%,0%);stroke-opacity:1;stroke-miterlimit:10;\" d=\"M 397.777344 16.828125 C 397.777344 20.101562 392.867188 20.101562 392.867188 16.828125 C 392.867188 13.554688 397.777344 13.554688 397.777344 16.828125 \"/>\n<path style=\"fill-rule:nonzero;fill:rgb(0%,0%,0%);fill-opacity:1;stroke-width:0.944882;stroke-linecap:round;stroke-linejoin:round;stroke:rgb(0%,0%,0%);stroke-opacity:1;stroke-miterlimit:10;\" d=\"M 268.78125 243.796875 C 268.78125 247.070312 263.871094 247.070312 263.871094 243.796875 C 263.871094 240.523438 268.78125 240.523438 268.78125 243.796875 \"/>\n<path style=\"fill-rule:nonzero;fill:rgb(0%,0%,0%);fill-opacity:1;stroke-width:0.944882;stroke-linecap:round;stroke-linejoin:round;stroke:rgb(0%,0%,0%);stroke-opacity:1;stroke-miterlimit:10;\" d=\"M 139.78125 92.484375 C 139.78125 95.757812 134.871094 95.757812 134.871094 92.484375 C 134.871094 89.210938 139.78125 89.210938 139.78125 92.484375 \"/>\n<path style=\"fill-rule:nonzero;fill:rgb(0%,0%,0%);fill-opacity:1;stroke-width:0.944882;stroke-linecap:round;stroke-linejoin:round;stroke:rgb(0%,0%,0%);stroke-opacity:1;stroke-miterlimit:10;\" d=\"M 204.28125 168.140625 C 204.28125 171.414062 199.371094 171.414062 199.371094 168.140625 C 199.371094 164.867188 204.28125 164.867188 204.28125 168.140625 \"/>\n<path style=\"fill-rule:nonzero;fill:rgb(0%,0%,0%);fill-opacity:1;stroke-width:0.944882;stroke-linecap:round;stroke-linejoin:round;stroke:rgb(0%,0%,0%);stroke-opacity:1;stroke-miterlimit:10;\" d=\"M 75.285156 16.828125 C 75.285156 20.101562 70.375 20.101562 70.375 16.828125 C 70.375 13.554688 75.285156 13.554688 75.285156 16.828125 \"/>\n<path style=\"fill-rule:nonzero;fill:rgb(0%,0%,0%);fill-opacity:1;stroke-width:0.944882;stroke-linecap:round;stroke-linejoin:round;stroke:rgb(0%,0%,0%);stroke-opacity:1;stroke-miterlimit:10;\" d=\"M 462.277344 92.484375 C 462.277344 95.757812 457.367188 95.757812 457.367188 92.484375 C 457.367188 89.210938 462.277344 89.210938 462.277344 92.484375 \"/>\n<g clip-path=\"url(#clip16)\" clip-rule=\"nonzero\">\n<path style=\"fill:none;stroke-width:1.422638;stroke-linecap:butt;stroke-linejoin:round;stroke:rgb(100%,0%,0%);stroke-opacity:1;stroke-miterlimit:10;\" d=\"M 34.128906 103.292969 L 498.519531 103.292969 \"/>\n</g>\n<path style=\"fill:none;stroke-width:1.422638;stroke-linecap:butt;stroke-linejoin:round;stroke:rgb(0%,0%,0%);stroke-opacity:1;stroke-miterlimit:10;\" d=\"M 72.828125 16.828125 L 72.828125 103.292969 \"/>\n<path style=\"fill:none;stroke-width:1.422638;stroke-linecap:butt;stroke-linejoin:round;stroke:rgb(0%,0%,0%);stroke-opacity:1;stroke-miterlimit:10;\" d=\"M 72.828125 16.828125 L 72.828125 103.292969 \"/>\n<path style=\"fill:none;stroke-width:1.422638;stroke-linecap:butt;stroke-linejoin:round;stroke:rgb(0%,0%,0%);stroke-opacity:1;stroke-miterlimit:10;\" d=\"M 72.828125 16.828125 L 72.828125 103.292969 \"/>\n<path style=\"fill:none;stroke-width:1.422638;stroke-linecap:butt;stroke-linejoin:round;stroke:rgb(0%,0%,0%);stroke-opacity:1;stroke-miterlimit:10;\" d=\"M 72.828125 16.828125 L 72.828125 103.292969 \"/>\n<path style=\"fill:none;stroke-width:1.422638;stroke-linecap:butt;stroke-linejoin:round;stroke:rgb(0%,0%,0%);stroke-opacity:1;stroke-miterlimit:10;\" d=\"M 72.828125 16.828125 L 72.828125 103.292969 \"/>\n<path style=\"fill:none;stroke-width:1.422638;stroke-linecap:butt;stroke-linejoin:round;stroke:rgb(0%,0%,0%);stroke-opacity:1;stroke-miterlimit:10;\" d=\"M 72.828125 16.828125 L 72.828125 103.292969 \"/>\n<path style=\"fill:none;stroke-width:1.422638;stroke-linecap:butt;stroke-linejoin:round;stroke:rgb(0%,0%,0%);stroke-opacity:1;stroke-miterlimit:10;\" d=\"M 72.828125 16.828125 L 72.828125 103.292969 \"/>\n<path style=\"fill:none;stroke-width:1.422638;stroke-linecap:butt;stroke-linejoin:round;stroke:rgb(0%,0%,0%);stroke-opacity:1;stroke-miterlimit:10;\" d=\"M 137.328125 92.484375 L 137.328125 103.292969 \"/>\n<path style=\"fill:none;stroke-width:1.422638;stroke-linecap:butt;stroke-linejoin:round;stroke:rgb(0%,0%,0%);stroke-opacity:1;stroke-miterlimit:10;\" d=\"M 137.328125 92.484375 L 137.328125 103.292969 \"/>\n<path style=\"fill:none;stroke-width:1.422638;stroke-linecap:butt;stroke-linejoin:round;stroke:rgb(0%,0%,0%);stroke-opacity:1;stroke-miterlimit:10;\" d=\"M 137.328125 92.484375 L 137.328125 103.292969 \"/>\n<path style=\"fill:none;stroke-width:1.422638;stroke-linecap:butt;stroke-linejoin:round;stroke:rgb(0%,0%,0%);stroke-opacity:1;stroke-miterlimit:10;\" d=\"M 137.328125 92.484375 L 137.328125 103.292969 \"/>\n<path style=\"fill:none;stroke-width:1.422638;stroke-linecap:butt;stroke-linejoin:round;stroke:rgb(0%,0%,0%);stroke-opacity:1;stroke-miterlimit:10;\" d=\"M 137.328125 92.484375 L 137.328125 103.292969 \"/>\n<path style=\"fill:none;stroke-width:1.422638;stroke-linecap:butt;stroke-linejoin:round;stroke:rgb(0%,0%,0%);stroke-opacity:1;stroke-miterlimit:10;\" d=\"M 137.328125 92.484375 L 137.328125 103.292969 \"/>\n<path style=\"fill:none;stroke-width:1.422638;stroke-linecap:butt;stroke-linejoin:round;stroke:rgb(0%,0%,0%);stroke-opacity:1;stroke-miterlimit:10;\" d=\"M 137.328125 92.484375 L 137.328125 103.292969 \"/>\n<path style=\"fill:none;stroke-width:1.422638;stroke-linecap:butt;stroke-linejoin:round;stroke:rgb(0%,0%,0%);stroke-opacity:1;stroke-miterlimit:10;\" d=\"M 201.828125 168.140625 L 201.828125 103.292969 \"/>\n<path style=\"fill:none;stroke-width:1.422638;stroke-linecap:butt;stroke-linejoin:round;stroke:rgb(0%,0%,0%);stroke-opacity:1;stroke-miterlimit:10;\" d=\"M 201.828125 168.140625 L 201.828125 103.292969 \"/>\n<path style=\"fill:none;stroke-width:1.422638;stroke-linecap:butt;stroke-linejoin:round;stroke:rgb(0%,0%,0%);stroke-opacity:1;stroke-miterlimit:10;\" d=\"M 201.828125 168.140625 L 201.828125 103.292969 \"/>\n<path style=\"fill:none;stroke-width:1.422638;stroke-linecap:butt;stroke-linejoin:round;stroke:rgb(0%,0%,0%);stroke-opacity:1;stroke-miterlimit:10;\" d=\"M 201.828125 168.140625 L 201.828125 103.292969 \"/>\n<path style=\"fill:none;stroke-width:1.422638;stroke-linecap:butt;stroke-linejoin:round;stroke:rgb(0%,0%,0%);stroke-opacity:1;stroke-miterlimit:10;\" d=\"M 201.828125 168.140625 L 201.828125 103.292969 \"/>\n<path style=\"fill:none;stroke-width:1.422638;stroke-linecap:butt;stroke-linejoin:round;stroke:rgb(0%,0%,0%);stroke-opacity:1;stroke-miterlimit:10;\" d=\"M 201.828125 168.140625 L 201.828125 103.292969 \"/>\n<path style=\"fill:none;stroke-width:1.422638;stroke-linecap:butt;stroke-linejoin:round;stroke:rgb(0%,0%,0%);stroke-opacity:1;stroke-miterlimit:10;\" d=\"M 201.828125 168.140625 L 201.828125 103.292969 \"/>\n<path style=\"fill:none;stroke-width:1.422638;stroke-linecap:butt;stroke-linejoin:round;stroke:rgb(0%,0%,0%);stroke-opacity:1;stroke-miterlimit:10;\" d=\"M 266.324219 243.796875 L 266.324219 103.292969 \"/>\n<path style=\"fill:none;stroke-width:1.422638;stroke-linecap:butt;stroke-linejoin:round;stroke:rgb(0%,0%,0%);stroke-opacity:1;stroke-miterlimit:10;\" d=\"M 266.324219 243.796875 L 266.324219 103.292969 \"/>\n<path style=\"fill:none;stroke-width:1.422638;stroke-linecap:butt;stroke-linejoin:round;stroke:rgb(0%,0%,0%);stroke-opacity:1;stroke-miterlimit:10;\" d=\"M 266.324219 243.796875 L 266.324219 103.292969 \"/>\n<path style=\"fill:none;stroke-width:1.422638;stroke-linecap:butt;stroke-linejoin:round;stroke:rgb(0%,0%,0%);stroke-opacity:1;stroke-miterlimit:10;\" d=\"M 266.324219 243.796875 L 266.324219 103.292969 \"/>\n<path style=\"fill:none;stroke-width:1.422638;stroke-linecap:butt;stroke-linejoin:round;stroke:rgb(0%,0%,0%);stroke-opacity:1;stroke-miterlimit:10;\" d=\"M 266.324219 243.796875 L 266.324219 103.292969 \"/>\n<path style=\"fill:none;stroke-width:1.422638;stroke-linecap:butt;stroke-linejoin:round;stroke:rgb(0%,0%,0%);stroke-opacity:1;stroke-miterlimit:10;\" d=\"M 266.324219 243.796875 L 266.324219 103.292969 \"/>\n<path style=\"fill:none;stroke-width:1.422638;stroke-linecap:butt;stroke-linejoin:round;stroke:rgb(0%,0%,0%);stroke-opacity:1;stroke-miterlimit:10;\" d=\"M 266.324219 243.796875 L 266.324219 103.292969 \"/>\n<path style=\"fill:none;stroke-width:1.422638;stroke-linecap:butt;stroke-linejoin:round;stroke:rgb(0%,0%,0%);stroke-opacity:1;stroke-miterlimit:10;\" d=\"M 330.824219 92.484375 L 330.824219 103.292969 \"/>\n<path style=\"fill:none;stroke-width:1.422638;stroke-linecap:butt;stroke-linejoin:round;stroke:rgb(0%,0%,0%);stroke-opacity:1;stroke-miterlimit:10;\" d=\"M 330.824219 92.484375 L 330.824219 103.292969 \"/>\n<path style=\"fill:none;stroke-width:1.422638;stroke-linecap:butt;stroke-linejoin:round;stroke:rgb(0%,0%,0%);stroke-opacity:1;stroke-miterlimit:10;\" d=\"M 330.824219 92.484375 L 330.824219 103.292969 \"/>\n<path style=\"fill:none;stroke-width:1.422638;stroke-linecap:butt;stroke-linejoin:round;stroke:rgb(0%,0%,0%);stroke-opacity:1;stroke-miterlimit:10;\" d=\"M 330.824219 92.484375 L 330.824219 103.292969 \"/>\n<path style=\"fill:none;stroke-width:1.422638;stroke-linecap:butt;stroke-linejoin:round;stroke:rgb(0%,0%,0%);stroke-opacity:1;stroke-miterlimit:10;\" d=\"M 330.824219 92.484375 L 330.824219 103.292969 \"/>\n<path style=\"fill:none;stroke-width:1.422638;stroke-linecap:butt;stroke-linejoin:round;stroke:rgb(0%,0%,0%);stroke-opacity:1;stroke-miterlimit:10;\" d=\"M 330.824219 92.484375 L 330.824219 103.292969 \"/>\n<path style=\"fill:none;stroke-width:1.422638;stroke-linecap:butt;stroke-linejoin:round;stroke:rgb(0%,0%,0%);stroke-opacity:1;stroke-miterlimit:10;\" d=\"M 330.824219 92.484375 L 330.824219 103.292969 \"/>\n<path style=\"fill:none;stroke-width:1.422638;stroke-linecap:butt;stroke-linejoin:round;stroke:rgb(0%,0%,0%);stroke-opacity:1;stroke-miterlimit:10;\" d=\"M 395.324219 16.828125 L 395.324219 103.292969 \"/>\n<path style=\"fill:none;stroke-width:1.422638;stroke-linecap:butt;stroke-linejoin:round;stroke:rgb(0%,0%,0%);stroke-opacity:1;stroke-miterlimit:10;\" d=\"M 395.324219 16.828125 L 395.324219 103.292969 \"/>\n<path style=\"fill:none;stroke-width:1.422638;stroke-linecap:butt;stroke-linejoin:round;stroke:rgb(0%,0%,0%);stroke-opacity:1;stroke-miterlimit:10;\" d=\"M 395.324219 16.828125 L 395.324219 103.292969 \"/>\n<path style=\"fill:none;stroke-width:1.422638;stroke-linecap:butt;stroke-linejoin:round;stroke:rgb(0%,0%,0%);stroke-opacity:1;stroke-miterlimit:10;\" d=\"M 395.324219 16.828125 L 395.324219 103.292969 \"/>\n<path style=\"fill:none;stroke-width:1.422638;stroke-linecap:butt;stroke-linejoin:round;stroke:rgb(0%,0%,0%);stroke-opacity:1;stroke-miterlimit:10;\" d=\"M 395.324219 16.828125 L 395.324219 103.292969 \"/>\n<path style=\"fill:none;stroke-width:1.422638;stroke-linecap:butt;stroke-linejoin:round;stroke:rgb(0%,0%,0%);stroke-opacity:1;stroke-miterlimit:10;\" d=\"M 395.324219 16.828125 L 395.324219 103.292969 \"/>\n<path style=\"fill:none;stroke-width:1.422638;stroke-linecap:butt;stroke-linejoin:round;stroke:rgb(0%,0%,0%);stroke-opacity:1;stroke-miterlimit:10;\" d=\"M 395.324219 16.828125 L 395.324219 103.292969 \"/>\n<path style=\"fill:none;stroke-width:1.422638;stroke-linecap:butt;stroke-linejoin:round;stroke:rgb(0%,0%,0%);stroke-opacity:1;stroke-miterlimit:10;\" d=\"M 459.820312 92.484375 L 459.820312 103.292969 \"/>\n<path style=\"fill:none;stroke-width:1.422638;stroke-linecap:butt;stroke-linejoin:round;stroke:rgb(0%,0%,0%);stroke-opacity:1;stroke-miterlimit:10;\" d=\"M 459.820312 92.484375 L 459.820312 103.292969 \"/>\n<path style=\"fill:none;stroke-width:1.422638;stroke-linecap:butt;stroke-linejoin:round;stroke:rgb(0%,0%,0%);stroke-opacity:1;stroke-miterlimit:10;\" d=\"M 459.820312 92.484375 L 459.820312 103.292969 \"/>\n<path style=\"fill:none;stroke-width:1.422638;stroke-linecap:butt;stroke-linejoin:round;stroke:rgb(0%,0%,0%);stroke-opacity:1;stroke-miterlimit:10;\" d=\"M 459.820312 92.484375 L 459.820312 103.292969 \"/>\n<path style=\"fill:none;stroke-width:1.422638;stroke-linecap:butt;stroke-linejoin:round;stroke:rgb(0%,0%,0%);stroke-opacity:1;stroke-miterlimit:10;\" d=\"M 459.820312 92.484375 L 459.820312 103.292969 \"/>\n<path style=\"fill:none;stroke-width:1.422638;stroke-linecap:butt;stroke-linejoin:round;stroke:rgb(0%,0%,0%);stroke-opacity:1;stroke-miterlimit:10;\" d=\"M 459.820312 92.484375 L 459.820312 103.292969 \"/>\n<path style=\"fill:none;stroke-width:1.422638;stroke-linecap:butt;stroke-linejoin:round;stroke:rgb(0%,0%,0%);stroke-opacity:1;stroke-miterlimit:10;\" d=\"M 459.820312 92.484375 L 459.820312 103.292969 \"/>\n<g style=\"fill:rgb(30.196078%,30.196078%,30.196078%);fill-opacity:1;\">\n  <use xlink:href=\"#glyph0-1\" x=\"24.03125\" y=\"247.328125\"/>\n</g>\n<g style=\"fill:rgb(30.196078%,30.196078%,30.196078%);fill-opacity:1;\">\n  <use xlink:href=\"#glyph0-2\" x=\"24.03125\" y=\"171.671875\"/>\n</g>\n<g style=\"fill:rgb(30.196078%,30.196078%,30.196078%);fill-opacity:1;\">\n  <use xlink:href=\"#glyph0-3\" x=\"24.03125\" y=\"96.015625\"/>\n</g>\n<g style=\"fill:rgb(30.196078%,30.196078%,30.196078%);fill-opacity:1;\">\n  <use xlink:href=\"#glyph0-4\" x=\"18.859375\" y=\"20.359375\"/>\n  <use xlink:href=\"#glyph0-5\" x=\"24.028442\" y=\"20.359375\"/>\n</g>\n<path style=\"fill:none;stroke-width:1.422638;stroke-linecap:butt;stroke-linejoin:round;stroke:rgb(20%,20%,20%);stroke-opacity:1;stroke-miterlimit:10;\" d=\"M 31.390625 243.796875 L 34.128906 243.796875 \"/>\n<path style=\"fill:none;stroke-width:1.422638;stroke-linecap:butt;stroke-linejoin:round;stroke:rgb(20%,20%,20%);stroke-opacity:1;stroke-miterlimit:10;\" d=\"M 31.390625 168.140625 L 34.128906 168.140625 \"/>\n<path style=\"fill:none;stroke-width:1.422638;stroke-linecap:butt;stroke-linejoin:round;stroke:rgb(20%,20%,20%);stroke-opacity:1;stroke-miterlimit:10;\" d=\"M 31.390625 92.484375 L 34.128906 92.484375 \"/>\n<path style=\"fill:none;stroke-width:1.422638;stroke-linecap:butt;stroke-linejoin:round;stroke:rgb(20%,20%,20%);stroke-opacity:1;stroke-miterlimit:10;\" d=\"M 31.390625 16.828125 L 34.128906 16.828125 \"/>\n<path style=\"fill:none;stroke-width:1.422638;stroke-linecap:butt;stroke-linejoin:round;stroke:rgb(20%,20%,20%);stroke-opacity:1;stroke-miterlimit:10;\" d=\"M 72.828125 257.886719 L 72.828125 255.144531 \"/>\n<path style=\"fill:none;stroke-width:1.422638;stroke-linecap:butt;stroke-linejoin:round;stroke:rgb(20%,20%,20%);stroke-opacity:1;stroke-miterlimit:10;\" d=\"M 137.328125 257.886719 L 137.328125 255.144531 \"/>\n<path style=\"fill:none;stroke-width:1.422638;stroke-linecap:butt;stroke-linejoin:round;stroke:rgb(20%,20%,20%);stroke-opacity:1;stroke-miterlimit:10;\" d=\"M 201.828125 257.886719 L 201.828125 255.144531 \"/>\n<path style=\"fill:none;stroke-width:1.422638;stroke-linecap:butt;stroke-linejoin:round;stroke:rgb(20%,20%,20%);stroke-opacity:1;stroke-miterlimit:10;\" d=\"M 266.324219 257.886719 L 266.324219 255.144531 \"/>\n<path style=\"fill:none;stroke-width:1.422638;stroke-linecap:butt;stroke-linejoin:round;stroke:rgb(20%,20%,20%);stroke-opacity:1;stroke-miterlimit:10;\" d=\"M 330.824219 257.886719 L 330.824219 255.144531 \"/>\n<path style=\"fill:none;stroke-width:1.422638;stroke-linecap:butt;stroke-linejoin:round;stroke:rgb(20%,20%,20%);stroke-opacity:1;stroke-miterlimit:10;\" d=\"M 395.324219 257.886719 L 395.324219 255.144531 \"/>\n<path style=\"fill:none;stroke-width:1.422638;stroke-linecap:butt;stroke-linejoin:round;stroke:rgb(20%,20%,20%);stroke-opacity:1;stroke-miterlimit:10;\" d=\"M 459.820312 257.886719 L 459.820312 255.144531 \"/>\n<g style=\"fill:rgb(30.196078%,30.196078%,30.196078%);fill-opacity:1;\">\n  <use xlink:href=\"#glyph0-6\" x=\"60.429688\" y=\"267.140625\"/>\n  <use xlink:href=\"#glyph0-7\" x=\"66.110092\" y=\"267.140625\"/>\n  <use xlink:href=\"#glyph0-8\" x=\"68.694626\" y=\"267.140625\"/>\n  <use xlink:href=\"#glyph0-9\" x=\"73.343079\" y=\"267.140625\"/>\n  <use xlink:href=\"#glyph0-10\" x=\"75.406982\" y=\"267.140625\"/>\n  <use xlink:href=\"#glyph0-11\" x=\"80.055435\" y=\"267.140625\"/>\n</g>\n<g style=\"fill:rgb(30.196078%,30.196078%,30.196078%);fill-opacity:1;\">\n  <use xlink:href=\"#glyph0-12\" x=\"116.917969\" y=\"267.140625\"/>\n  <use xlink:href=\"#glyph0-13\" x=\"124.150955\" y=\"267.140625\"/>\n  <use xlink:href=\"#glyph0-14\" x=\"129.320023\" y=\"267.140625\"/>\n  <use xlink:href=\"#glyph0-15\" x=\"134.48909\" y=\"267.140625\"/>\n  <use xlink:href=\"#glyph0-16\" x=\"139.658157\" y=\"267.140625\"/>\n  <use xlink:href=\"#glyph0-11\" x=\"142.754028\" y=\"267.140625\"/>\n  <use xlink:href=\"#glyph0-17\" x=\"147.923096\" y=\"267.140625\"/>\n  <use xlink:href=\"#glyph0-9\" x=\"150.507629\" y=\"267.140625\"/>\n  <use xlink:href=\"#glyph0-11\" x=\"152.571533\" y=\"267.140625\"/>\n</g>\n<g style=\"fill:rgb(30.196078%,30.196078%,30.196078%);fill-opacity:1;\">\n  <use xlink:href=\"#glyph0-18\" x=\"186.074219\" y=\"267.140625\"/>\n  <use xlink:href=\"#glyph0-9\" x=\"192.786575\" y=\"267.140625\"/>\n  <use xlink:href=\"#glyph0-8\" x=\"194.850479\" y=\"267.140625\"/>\n  <use xlink:href=\"#glyph0-19\" x=\"199.498932\" y=\"267.140625\"/>\n  <use xlink:href=\"#glyph0-20\" x=\"202.083466\" y=\"267.140625\"/>\n  <use xlink:href=\"#glyph0-16\" x=\"207.252533\" y=\"267.140625\"/>\n  <use xlink:href=\"#glyph0-9\" x=\"210.348404\" y=\"267.140625\"/>\n  <use xlink:href=\"#glyph0-11\" x=\"212.412308\" y=\"267.140625\"/>\n</g>\n<g style=\"fill:rgb(30.196078%,30.196078%,30.196078%);fill-opacity:1;\">\n  <use xlink:href=\"#glyph0-21\" x=\"253.921875\" y=\"267.140625\"/>\n  <use xlink:href=\"#glyph0-22\" x=\"256.506409\" y=\"267.140625\"/>\n  <use xlink:href=\"#glyph0-15\" x=\"261.675476\" y=\"267.140625\"/>\n  <use xlink:href=\"#glyph0-23\" x=\"266.844543\" y=\"267.140625\"/>\n  <use xlink:href=\"#glyph0-24\" x=\"268.908447\" y=\"267.140625\"/>\n  <use xlink:href=\"#glyph0-8\" x=\"274.077515\" y=\"267.140625\"/>\n</g>\n<g style=\"fill:rgb(30.196078%,30.196078%,30.196078%);fill-opacity:1;\">\n  <use xlink:href=\"#glyph0-25\" x=\"306.800781\" y=\"267.140625\"/>\n  <use xlink:href=\"#glyph0-11\" x=\"314.54509\" y=\"267.140625\"/>\n  <use xlink:href=\"#glyph0-19\" x=\"319.714157\" y=\"267.140625\"/>\n  <use xlink:href=\"#glyph0-13\" x=\"322.298691\" y=\"267.140625\"/>\n  <use xlink:href=\"#glyph0-26\" x=\"327.467758\" y=\"267.140625\"/>\n  <use xlink:href=\"#glyph0-27\" x=\"335.212067\" y=\"267.140625\"/>\n  <use xlink:href=\"#glyph0-19\" x=\"340.381134\" y=\"267.140625\"/>\n  <use xlink:href=\"#glyph0-9\" x=\"342.965668\" y=\"267.140625\"/>\n  <use xlink:href=\"#glyph0-10\" x=\"345.029572\" y=\"267.140625\"/>\n  <use xlink:href=\"#glyph0-11\" x=\"349.678024\" y=\"267.140625\"/>\n</g>\n<g style=\"fill:rgb(30.196078%,30.196078%,30.196078%);fill-opacity:1;\">\n  <use xlink:href=\"#glyph0-28\" x=\"374.136719\" y=\"267.140625\"/>\n  <use xlink:href=\"#glyph0-14\" x=\"380.337753\" y=\"267.140625\"/>\n  <use xlink:href=\"#glyph0-16\" x=\"385.506821\" y=\"267.140625\"/>\n  <use xlink:href=\"#glyph0-19\" x=\"388.602692\" y=\"267.140625\"/>\n  <use xlink:href=\"#glyph0-29\" x=\"391.187225\" y=\"267.140625\"/>\n  <use xlink:href=\"#glyph0-15\" x=\"396.356293\" y=\"267.140625\"/>\n  <use xlink:href=\"#glyph0-29\" x=\"401.52536\" y=\"267.140625\"/>\n  <use xlink:href=\"#glyph0-24\" x=\"406.694427\" y=\"267.140625\"/>\n  <use xlink:href=\"#glyph0-8\" x=\"411.863495\" y=\"267.140625\"/>\n</g>\n<g style=\"fill:rgb(30.196078%,30.196078%,30.196078%);fill-opacity:1;\">\n  <use xlink:href=\"#glyph0-30\" x=\"442.515625\" y=\"267.140625\"/>\n  <use xlink:href=\"#glyph0-29\" x=\"449.748611\" y=\"267.140625\"/>\n  <use xlink:href=\"#glyph0-7\" x=\"454.917679\" y=\"267.140625\"/>\n  <use xlink:href=\"#glyph0-26\" x=\"457.502213\" y=\"267.140625\"/>\n  <use xlink:href=\"#glyph0-9\" x=\"465.246521\" y=\"267.140625\"/>\n  <use xlink:href=\"#glyph0-10\" x=\"467.310425\" y=\"267.140625\"/>\n  <use xlink:href=\"#glyph0-11\" x=\"471.958878\" y=\"267.140625\"/>\n</g>\n<g style=\"fill:rgb(0%,0%,0%);fill-opacity:1;\">\n  <use xlink:href=\"#glyph1-1\" x=\"201.453125\" y=\"280.519531\"/>\n  <use xlink:href=\"#glyph1-2\" x=\"205.282593\" y=\"280.519531\"/>\n  <use xlink:href=\"#glyph1-3\" x=\"211.676529\" y=\"280.519531\"/>\n  <use xlink:href=\"#glyph1-4\" x=\"219.979446\" y=\"280.519531\"/>\n  <use xlink:href=\"#glyph1-5\" x=\"223.176407\" y=\"280.519531\"/>\n  <use xlink:href=\"#glyph1-6\" x=\"229.570343\" y=\"280.519531\"/>\n  <use xlink:href=\"#glyph1-7\" x=\"235.964279\" y=\"280.519531\"/>\n  <use xlink:href=\"#glyph1-8\" x=\"245.543686\" y=\"280.519531\"/>\n  <use xlink:href=\"#glyph1-9\" x=\"251.937622\" y=\"280.519531\"/>\n  <use xlink:href=\"#glyph1-10\" x=\"257.687561\" y=\"280.519531\"/>\n  <use xlink:href=\"#glyph1-5\" x=\"261.517029\" y=\"280.519531\"/>\n  <use xlink:href=\"#glyph1-2\" x=\"267.910965\" y=\"280.519531\"/>\n  <use xlink:href=\"#glyph1-11\" x=\"274.304901\" y=\"280.519531\"/>\n  <use xlink:href=\"#glyph1-6\" x=\"277.501862\" y=\"280.519531\"/>\n  <use xlink:href=\"#glyph1-9\" x=\"283.895798\" y=\"280.519531\"/>\n  <use xlink:href=\"#glyph1-12\" x=\"289.645737\" y=\"280.519531\"/>\n  <use xlink:href=\"#glyph1-13\" x=\"296.039673\" y=\"280.519531\"/>\n  <use xlink:href=\"#glyph1-14\" x=\"299.236633\" y=\"280.519531\"/>\n  <use xlink:href=\"#glyph1-15\" x=\"305.630569\" y=\"280.519531\"/>\n  <use xlink:href=\"#glyph1-6\" x=\"308.183548\" y=\"280.519531\"/>\n  <use xlink:href=\"#glyph1-5\" x=\"314.577484\" y=\"280.519531\"/>\n  <use xlink:href=\"#glyph1-2\" x=\"320.97142\" y=\"280.519531\"/>\n  <use xlink:href=\"#glyph1-16\" x=\"327.365356\" y=\"280.519531\"/>\n</g>\n<g style=\"fill:rgb(0%,0%,0%);fill-opacity:1;\">\n  <use xlink:href=\"#glyph2-1\" x=\"14.121094\" y=\"147.890625\"/>\n  <use xlink:href=\"#glyph2-2\" x=\"14.121094\" y=\"140.864197\"/>\n  <use xlink:href=\"#glyph2-3\" x=\"14.121094\" y=\"134.470261\"/>\n  <use xlink:href=\"#glyph2-4\" x=\"14.121094\" y=\"131.917282\"/>\n  <use xlink:href=\"#glyph2-5\" x=\"14.121094\" y=\"125.523346\"/>\n  <use xlink:href=\"#glyph2-6\" x=\"14.121094\" y=\"119.12941\"/>\n</g>\n</g>\n</svg>\n"
          },
          "metadata": {
            "image/svg+xml": {
              "isolated": true
            }
          }
        }
      ]
    },
    {
      "metadata": {
        "colab": {
          "base_uri": "https://localhost:8080/",
          "height": 35
        },
        "colab_type": "code",
        "id": "m4buiQWF01xt",
        "outputId": "e166623b-e7a4-44f6-ecb1-2cfc0bc43ab1",
        "trusted": true
      },
      "cell_type": "code",
      "source": "mean(notas_fulano$Desvio.Absoluto)",
      "execution_count": 191,
      "outputs": [
        {
          "output_type": "display_data",
          "data": {
            "text/plain": "[1] 1.55102",
            "text/latex": "1.55102040816327",
            "text/markdown": "1.55102040816327",
            "text/html": "1.55102040816327"
          },
          "metadata": {}
        }
      ]
    },
    {
      "metadata": {},
      "cell_type": "markdown",
      "source": "### Instalando o pacote DescTools"
    },
    {
      "metadata": {
        "trusted": true
      },
      "cell_type": "code",
      "source": "packageurl <- \"https://cran.r-project.org/src/contrib/Archive/DescTools/DescTools_0.99.30.tar.gz\"\ninstall.packages(packageurl, repos=NULL, type=\"source\")",
      "execution_count": null,
      "outputs": []
    },
    {
      "metadata": {
        "trusted": true
      },
      "cell_type": "code",
      "source": "library(DescTools)",
      "execution_count": 192,
      "outputs": []
    },
    {
      "metadata": {
        "colab": {
          "base_uri": "https://localhost:8080/",
          "height": 35
        },
        "colab_type": "code",
        "id": "1PEJ_LUn01eV",
        "outputId": "ff37d20d-b3d1-408a-c300-79b81dafb398",
        "trusted": true
      },
      "cell_type": "code",
      "source": "MeanAD(df$Fulano)",
      "execution_count": 193,
      "outputs": [
        {
          "output_type": "display_data",
          "data": {
            "text/plain": "[1] 1.55102",
            "text/latex": "1.55102040816327",
            "text/markdown": "1.55102040816327",
            "text/html": "1.55102040816327"
          },
          "metadata": {}
        }
      ]
    },
    {
      "metadata": {
        "colab_type": "text",
        "id": "jSKfnKwEjQNW"
      },
      "cell_type": "markdown",
      "source": "## <font color=green>5.2 Variância</font>\n***"
    },
    {
      "metadata": {
        "colab_type": "text",
        "id": "tHD3yNqzjQNW"
      },
      "cell_type": "markdown",
      "source": "### Variância\n\nA variância é construída a partir das diferenças entre cada observação e a média dos dados, ou seja, o desvio em torno da média. No cálculo da variância, os desvios em torno da média são elevados ao quadrado."
    },
    {
      "metadata": {
        "colab_type": "text",
        "id": "WrCn9hw0jQNX"
      },
      "cell_type": "markdown",
      "source": "### Variância populacional\n\n# $$\\sigma^2 = \\frac 1n\\sum_{i=1}^{n}(X_i-\\mu)^2$$"
    },
    {
      "metadata": {
        "colab_type": "text",
        "id": "jV5mQT_djQNX"
      },
      "cell_type": "markdown",
      "source": "### Variância amostral\n\n# $$S^2 = \\frac 1{n-1}\\sum_{i=1}^{n}(X_i-\\bar{X})^2$$"
    },
    {
      "metadata": {},
      "cell_type": "markdown",
      "source": "### <font color=red>Documentações:\n\n- [**var**](https://www.rdocumentation.org/packages/stats/versions/3.6.1/topics/cor)"
    },
    {
      "metadata": {
        "colab": {
          "base_uri": "https://localhost:8080/",
          "height": 266
        },
        "colab_type": "code",
        "id": "4tlbCQeujQNZ",
        "outputId": "21e4a6b5-8a87-4338-8f94-b02ef2ea9e07",
        "trusted": true
      },
      "cell_type": "code",
      "source": "notas_fulano$Desvio2 <- notas_fulano$Desvio ^ 2\nnotas_fulano",
      "execution_count": 195,
      "outputs": [
        {
          "output_type": "display_data",
          "data": {
            "text/plain": "           Fulano Desvio     Desvio.Absoluto Desvio2    \nMatemática  8      0.2857143 0.2857143        0.08163265\nPortuguês  10      2.2857143 2.2857143        5.22448980\nInglês      4     -3.7142857 3.7142857       13.79591837\nGeografia   8      0.2857143 0.2857143        0.08163265\nHistória    6     -1.7142857 1.7142857        2.93877551\nFísica     10      2.2857143 2.2857143        5.22448980\nQuímica     8      0.2857143 0.2857143        0.08163265",
            "text/latex": "A data.frame: 7 x 4\n\\begin{tabular}{r|llll}\n  & Fulano & Desvio & Desvio.Absoluto & Desvio2\\\\\n  & <dbl> & <dbl> & <dbl> & <dbl>\\\\\n\\hline\n\tMatemática &  8 &  0.2857143 & 0.2857143 &  0.08163265\\\\\n\tPortuguês & 10 &  2.2857143 & 2.2857143 &  5.22448980\\\\\n\tInglês &  4 & -3.7142857 & 3.7142857 & 13.79591837\\\\\n\tGeografia &  8 &  0.2857143 & 0.2857143 &  0.08163265\\\\\n\tHistória &  6 & -1.7142857 & 1.7142857 &  2.93877551\\\\\n\tFísica & 10 &  2.2857143 & 2.2857143 &  5.22448980\\\\\n\tQuímica &  8 &  0.2857143 & 0.2857143 &  0.08163265\\\\\n\\end{tabular}\n",
            "text/markdown": "\nA data.frame: 7 x 4\n\n| <!--/--> | Fulano &lt;dbl&gt; | Desvio &lt;dbl&gt; | Desvio.Absoluto &lt;dbl&gt; | Desvio2 &lt;dbl&gt; |\n|---|---|---|---|---|\n| Matemática |  8 |  0.2857143 | 0.2857143 |  0.08163265 |\n| Português | 10 |  2.2857143 | 2.2857143 |  5.22448980 |\n| Inglês |  4 | -3.7142857 | 3.7142857 | 13.79591837 |\n| Geografia |  8 |  0.2857143 | 0.2857143 |  0.08163265 |\n| História |  6 | -1.7142857 | 1.7142857 |  2.93877551 |\n| Física | 10 |  2.2857143 | 2.2857143 |  5.22448980 |\n| Química |  8 |  0.2857143 | 0.2857143 |  0.08163265 |\n\n",
            "text/html": "<table>\n<caption>A data.frame: 7 x 4</caption>\n<thead>\n\t<tr><th></th><th scope=col>Fulano</th><th scope=col>Desvio</th><th scope=col>Desvio.Absoluto</th><th scope=col>Desvio2</th></tr>\n\t<tr><th></th><th scope=col>&lt;dbl&gt;</th><th scope=col>&lt;dbl&gt;</th><th scope=col>&lt;dbl&gt;</th><th scope=col>&lt;dbl&gt;</th></tr>\n</thead>\n<tbody>\n\t<tr><th scope=row>Matemática</th><td> 8</td><td> 0.2857143</td><td>0.2857143</td><td> 0.08163265</td></tr>\n\t<tr><th scope=row>Português</th><td>10</td><td> 2.2857143</td><td>2.2857143</td><td> 5.22448980</td></tr>\n\t<tr><th scope=row>Inglês</th><td> 4</td><td>-3.7142857</td><td>3.7142857</td><td>13.79591837</td></tr>\n\t<tr><th scope=row>Geografia</th><td> 8</td><td> 0.2857143</td><td>0.2857143</td><td> 0.08163265</td></tr>\n\t<tr><th scope=row>História</th><td> 6</td><td>-1.7142857</td><td>1.7142857</td><td> 2.93877551</td></tr>\n\t<tr><th scope=row>Física</th><td>10</td><td> 2.2857143</td><td>2.2857143</td><td> 5.22448980</td></tr>\n\t<tr><th scope=row>Química</th><td> 8</td><td> 0.2857143</td><td>0.2857143</td><td> 0.08163265</td></tr>\n</tbody>\n</table>\n"
          },
          "metadata": {}
        }
      ]
    },
    {
      "metadata": {
        "colab": {
          "base_uri": "https://localhost:8080/",
          "height": 35
        },
        "colab_type": "code",
        "id": "oCcAfoIOjQNa",
        "outputId": "e55249a4-6d91-4776-d89f-428f067a87ae",
        "trusted": true
      },
      "cell_type": "code",
      "source": "sum(notas_fulano$Desvio2) / (nrow(notas_fulano) - 1)",
      "execution_count": 196,
      "outputs": [
        {
          "output_type": "display_data",
          "data": {
            "text/plain": "[1] 4.571429",
            "text/latex": "4.57142857142857",
            "text/markdown": "4.57142857142857",
            "text/html": "4.57142857142857"
          },
          "metadata": {}
        }
      ]
    },
    {
      "metadata": {
        "colab": {
          "base_uri": "https://localhost:8080/",
          "height": 35
        },
        "colab_type": "code",
        "id": "EyrfPHLtjQNb",
        "outputId": "a024839f-1c4a-4a91-b892-3966d7cc8f95",
        "trusted": true
      },
      "cell_type": "code",
      "source": "variancia <- var(notas_fulano$Fulano)\nvariancia",
      "execution_count": 197,
      "outputs": [
        {
          "output_type": "display_data",
          "data": {
            "text/plain": "[1] 4.571429",
            "text/latex": "4.57142857142857",
            "text/markdown": "4.57142857142857",
            "text/html": "4.57142857142857"
          },
          "metadata": {}
        }
      ]
    },
    {
      "metadata": {
        "colab_type": "text",
        "id": "wQl_CsytjQNg"
      },
      "cell_type": "markdown",
      "source": "## <font color=green>5.3 Desvio padrão</font>\n***\n\nUma das restrições da variância é o fato de fornecer medidas em quadrados das unidades originais - a variância de medidas de comprimento, por exemplo, é em unidades de área. Logo, o fato de as unidades serem diferentes dificulta a comparação da dispersão com as variáveis que a definem. Um modo de eliminar essa dificuldade é considerar sua raiz quadrada."
    },
    {
      "metadata": {
        "colab_type": "text",
        "id": "X9w1Iqt3jQNg"
      },
      "cell_type": "markdown",
      "source": "### Desvio padrão populacional\n\n# $$\\sigma = \\sqrt{\\frac 1n\\sum_{i=1}^{n}(X_i-\\mu)^2} \\Longrightarrow \\sigma = \\sqrt{\\sigma^2}$$"
    },
    {
      "metadata": {
        "colab_type": "text",
        "id": "D3J4MvMpjQNg"
      },
      "cell_type": "markdown",
      "source": "### Desvio padrão amostral\n\n# $$S = \\sqrt{\\frac 1{n-1}\\sum_{i=1}^{n}(X_i-\\bar{X})^2} \\Longrightarrow S = \\sqrt{S^2}$$"
    },
    {
      "metadata": {},
      "cell_type": "markdown",
      "source": "### <font color=red>Documentações:\n\n- [**sd**](https://www.rdocumentation.org/packages/stats/versions/3.6.1/topics/sd)\n- [**summary**](https://www.rdocumentation.org/packages/base/versions/3.6.1/topics/summary)"
    },
    {
      "metadata": {
        "colab": {
          "base_uri": "https://localhost:8080/",
          "height": 35
        },
        "colab_type": "code",
        "id": "2di6iLFaSPda",
        "outputId": "d4b3d928-0ef9-4412-8b97-a16724770f84",
        "trusted": true
      },
      "cell_type": "code",
      "source": "sqrt(variancia)",
      "execution_count": 201,
      "outputs": [
        {
          "output_type": "display_data",
          "data": {
            "text/plain": "[1] 2.13809",
            "text/latex": "2.1380899352994",
            "text/markdown": "2.1380899352994",
            "text/html": "2.1380899352994"
          },
          "metadata": {}
        }
      ]
    },
    {
      "metadata": {
        "colab": {
          "base_uri": "https://localhost:8080/",
          "height": 35
        },
        "colab_type": "code",
        "id": "BMTx9yKHSPON",
        "outputId": "2a045e01-b0a6-4c42-96e8-18708617687d",
        "trusted": true
      },
      "cell_type": "code",
      "source": "desvio_padrao <- sd(notas_fulano$Fulano)\ndesvio_padrao",
      "execution_count": 202,
      "outputs": [
        {
          "output_type": "display_data",
          "data": {
            "text/plain": "[1] 2.13809",
            "text/latex": "2.1380899352994",
            "text/markdown": "2.1380899352994",
            "text/html": "2.1380899352994"
          },
          "metadata": {}
        }
      ]
    },
    {
      "metadata": {
        "colab": {
          "base_uri": "https://localhost:8080/",
          "height": 266
        },
        "colab_type": "code",
        "id": "_PeQtqbdjQNh",
        "outputId": "dd38bbe1-9fbc-4be6-85a5-8e481520bf85",
        "trusted": true
      },
      "cell_type": "code",
      "source": "df",
      "execution_count": 203,
      "outputs": [
        {
          "output_type": "display_data",
          "data": {
            "text/plain": "           Fulano Beltrano Sicrano\nMatemática  8     10.0     7.5    \nPortuguês  10      2.0     8.0    \nInglês      4      0.5     7.0    \nGeografia   8      1.0     8.0    \nHistória    6      3.0     8.0    \nFísica     10      9.5     8.5    \nQuímica     8     10.0     7.0    ",
            "text/latex": "A data.frame: 7 x 3\n\\begin{tabular}{r|lll}\n  & Fulano & Beltrano & Sicrano\\\\\n  & <dbl> & <dbl> & <dbl>\\\\\n\\hline\n\tMatemática &  8 & 10.0 & 7.5\\\\\n\tPortuguês & 10 &  2.0 & 8.0\\\\\n\tInglês &  4 &  0.5 & 7.0\\\\\n\tGeografia &  8 &  1.0 & 8.0\\\\\n\tHistória &  6 &  3.0 & 8.0\\\\\n\tFísica & 10 &  9.5 & 8.5\\\\\n\tQuímica &  8 & 10.0 & 7.0\\\\\n\\end{tabular}\n",
            "text/markdown": "\nA data.frame: 7 x 3\n\n| <!--/--> | Fulano &lt;dbl&gt; | Beltrano &lt;dbl&gt; | Sicrano &lt;dbl&gt; |\n|---|---|---|---|\n| Matemática |  8 | 10.0 | 7.5 |\n| Português | 10 |  2.0 | 8.0 |\n| Inglês |  4 |  0.5 | 7.0 |\n| Geografia |  8 |  1.0 | 8.0 |\n| História |  6 |  3.0 | 8.0 |\n| Física | 10 |  9.5 | 8.5 |\n| Química |  8 | 10.0 | 7.0 |\n\n",
            "text/html": "<table>\n<caption>A data.frame: 7 x 3</caption>\n<thead>\n\t<tr><th></th><th scope=col>Fulano</th><th scope=col>Beltrano</th><th scope=col>Sicrano</th></tr>\n\t<tr><th></th><th scope=col>&lt;dbl&gt;</th><th scope=col>&lt;dbl&gt;</th><th scope=col>&lt;dbl&gt;</th></tr>\n</thead>\n<tbody>\n\t<tr><th scope=row>Matemática</th><td> 8</td><td>10.0</td><td>7.5</td></tr>\n\t<tr><th scope=row>Português</th><td>10</td><td> 2.0</td><td>8.0</td></tr>\n\t<tr><th scope=row>Inglês</th><td> 4</td><td> 0.5</td><td>7.0</td></tr>\n\t<tr><th scope=row>Geografia</th><td> 8</td><td> 1.0</td><td>8.0</td></tr>\n\t<tr><th scope=row>História</th><td> 6</td><td> 3.0</td><td>8.0</td></tr>\n\t<tr><th scope=row>Física</th><td>10</td><td> 9.5</td><td>8.5</td></tr>\n\t<tr><th scope=row>Química</th><td> 8</td><td>10.0</td><td>7.0</td></tr>\n</tbody>\n</table>\n"
          },
          "metadata": {}
        }
      ]
    },
    {
      "metadata": {
        "colab": {
          "base_uri": "https://localhost:8080/",
          "height": 107
        },
        "colab_type": "code",
        "id": "5LYOKy25jQNi",
        "outputId": "c263cc75-8407-4546-ef00-64a6abd9a6a7",
        "trusted": true
      },
      "cell_type": "code",
      "source": "summary(df)",
      "execution_count": 204,
      "outputs": [
        {
          "output_type": "display_data",
          "data": {
            "text/plain": "     Fulano          Beltrano         Sicrano     \n Min.   : 4.000   Min.   : 0.500   Min.   :7.000  \n 1st Qu.: 7.000   1st Qu.: 1.500   1st Qu.:7.250  \n Median : 8.000   Median : 3.000   Median :8.000  \n Mean   : 7.714   Mean   : 5.143   Mean   :7.714  \n 3rd Qu.: 9.000   3rd Qu.: 9.750   3rd Qu.:8.000  \n Max.   :10.000   Max.   :10.000   Max.   :8.500  "
          },
          "metadata": {}
        }
      ]
    },
    {
      "metadata": {
        "colab": {
          "base_uri": "https://localhost:8080/",
          "height": 80
        },
        "colab_type": "code",
        "id": "G8vorygCjQNk",
        "outputId": "39af6a22-deed-47eb-eeee-17e48ccf9a7f",
        "trusted": true
      },
      "cell_type": "code",
      "source": "Moda(df$Fulano)\nModa(df$Sicrano)",
      "execution_count": 207,
      "outputs": [
        {
          "output_type": "display_data",
          "data": {
            "text/plain": "[1] \"8\"",
            "text/latex": "'8'",
            "text/markdown": "'8'",
            "text/html": "'8'"
          },
          "metadata": {}
        },
        {
          "output_type": "display_data",
          "data": {
            "text/plain": "[1] \"8\"",
            "text/latex": "'8'",
            "text/markdown": "'8'",
            "text/html": "'8'"
          },
          "metadata": {}
        }
      ]
    },
    {
      "metadata": {
        "colab": {
          "base_uri": "https://localhost:8080/",
          "height": 107
        },
        "colab_type": "code",
        "id": "01op3BEvjQNl",
        "outputId": "5b427605-ac79-4071-8b6f-4eee089337a0",
        "trusted": true
      },
      "cell_type": "code",
      "source": "sd(df$Fulano)\nsd(df$Sicrano)",
      "execution_count": 208,
      "outputs": [
        {
          "output_type": "display_data",
          "data": {
            "text/plain": "[1] 2.13809",
            "text/latex": "2.1380899352994",
            "text/markdown": "2.1380899352994",
            "text/html": "2.1380899352994"
          },
          "metadata": {}
        },
        {
          "output_type": "display_data",
          "data": {
            "text/plain": "[1] 0.5669467",
            "text/latex": "0.566946709513841",
            "text/markdown": "0.566946709513841",
            "text/html": "0.566946709513841"
          },
          "metadata": {}
        }
      ]
    },
    {
      "metadata": {
        "colab": {},
        "colab_type": "code",
        "id": "aiUvZluhUx-0",
        "trusted": true
      },
      "cell_type": "code",
      "source": "",
      "execution_count": null,
      "outputs": []
    }
  ],
  "metadata": {
    "colab": {
      "name": "Curso_de_Estatística_Parte_1.ipynb",
      "provenance": [],
      "toc_visible": true,
      "version": "0.3.2"
    },
    "kernelspec": {
      "name": "r",
      "display_name": "R",
      "language": "R"
    },
    "language_info": {
      "mimetype": "text/x-r-source",
      "name": "R",
      "pygments_lexer": "r",
      "version": "3.5.3",
      "file_extension": ".r",
      "codemirror_mode": "r"
    }
  },
  "nbformat": 4,
  "nbformat_minor": 1
}